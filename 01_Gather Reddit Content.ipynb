{
 "cells": [
  {
   "cell_type": "code",
   "execution_count": 1,
   "metadata": {},
   "outputs": [],
   "source": [
    "import pandas as pd\n",
    "import numpy as np\n",
    "import datetime as dt\n",
    "import time\n",
    "import requests\n",
    "import json\n",
    "import matplotlib.pyplot as plt\n",
    "import seaborn as sns\n",
    "np.random.seed(42)"
   ]
  },
  {
   "cell_type": "code",
   "execution_count": 2,
   "metadata": {},
   "outputs": [],
   "source": [
    "def query_pushshift (subreddit, kind='submission', skip=60, times=10, \n",
    "                      subfields=['title', 'score', 'is_self', 'selftext', 'created_utc', 'num_comments'],\n",
    "                    comfields=['body', 'score', 'created_utc']):\n",
    "    \n",
    "    \n",
    "    # Ensure we only input a valid search type\n",
    "    assert (kind in ['submission', 'comment']), \"Invalid kind of search!\"\n",
    "    \n",
    "    # Initalize the list holding all the query results\n",
    "    mylist = []\n",
    "    \n",
    "    # Create stem of the API query string\n",
    "    stem=\"https://api.pushshift.io/reddit/search/\"+kind+\"/?subreddit=\"+subreddit+\"&size=500\" \n",
    "    \n",
    "    # Iterate through queries and convert each query to a dictionary\n",
    "    for i in range(1, times):\n",
    "        # Skipping backwards in time, each query looks for older records\n",
    "        URL=stem+\"&before=\"+str(skip*i)+\"d\"\n",
    "        print (URL)\n",
    "        response = requests.get(URL)\n",
    "        mine= response.json()['data']\n",
    "        df=pd.DataFrame.from_dict(mine)\n",
    "        mylist.append(df)\n",
    "        time.sleep(3)\n",
    "        \n",
    "    # Stitch the query frames back together\n",
    "    full=pd.concat(mylist)\n",
    "    \n",
    "    if kind == 'submission':\n",
    "        # Limit the features to the ones we're interested in\n",
    "        full=full[subfields]\n",
    "        \n",
    "        #De-duplicate the observations\n",
    "        full=full.drop_duplicates()\n",
    "        \n",
    "        #Drop out entries that don't contain body text\n",
    "        full=full.loc[full['is_self']==True]\n",
    "    else:\n",
    "        \n",
    "        # Limit the features to the ones we're interested in\n",
    "        full=full[comfields]\n",
    "        \n",
    "        #De-duplicate the observations\n",
    "        full=full.drop_duplicates()\n",
    "    \n",
    "    # Convert the time to a Pandas DateTime Object (courtsey of \n",
    "    #http://www.storybench.org/how-to-scrape-reddit-with-python/)\n",
    "    \n",
    "    def get_date(created):\n",
    "        return dt.datetime.fromtimestamp(created)\n",
    "    \n",
    "    _timestamp = full[\"created_utc\"].apply(get_date)\n",
    "    \n",
    "    full['timestamp']=_timestamp\n",
    "    \n",
    "    \n",
    "    #Confirm the shape of the output\n",
    "    print (full.shape)\n",
    "    \n",
    "    return full\n",
    "    \n",
    "    \n"
   ]
  },
  {
   "cell_type": "code",
   "execution_count": 3,
   "metadata": {},
   "outputs": [
    {
     "name": "stdout",
     "output_type": "stream",
     "text": [
      "https://api.pushshift.io/reddit/search/submission/?subreddit=prochoice&size=500&before=60d\n",
      "https://api.pushshift.io/reddit/search/submission/?subreddit=prochoice&size=500&before=120d\n",
      "https://api.pushshift.io/reddit/search/submission/?subreddit=prochoice&size=500&before=180d\n",
      "https://api.pushshift.io/reddit/search/submission/?subreddit=prochoice&size=500&before=240d\n",
      "https://api.pushshift.io/reddit/search/submission/?subreddit=prochoice&size=500&before=300d\n",
      "https://api.pushshift.io/reddit/search/submission/?subreddit=prochoice&size=500&before=360d\n",
      "https://api.pushshift.io/reddit/search/submission/?subreddit=prochoice&size=500&before=420d\n",
      "https://api.pushshift.io/reddit/search/submission/?subreddit=prochoice&size=500&before=480d\n",
      "https://api.pushshift.io/reddit/search/submission/?subreddit=prochoice&size=500&before=540d\n",
      "(377, 7)\n"
     ]
    }
   ],
   "source": [
    "prochoice=query_pushshift('prochoice')"
   ]
  },
  {
   "cell_type": "code",
   "execution_count": 4,
   "metadata": {},
   "outputs": [
    {
     "name": "stdout",
     "output_type": "stream",
     "text": [
      "https://api.pushshift.io/reddit/search/submission/?subreddit=Prolife&size=500&before=60d\n",
      "https://api.pushshift.io/reddit/search/submission/?subreddit=Prolife&size=500&before=120d\n",
      "https://api.pushshift.io/reddit/search/submission/?subreddit=Prolife&size=500&before=180d\n",
      "https://api.pushshift.io/reddit/search/submission/?subreddit=Prolife&size=500&before=240d\n",
      "https://api.pushshift.io/reddit/search/submission/?subreddit=Prolife&size=500&before=300d\n",
      "https://api.pushshift.io/reddit/search/submission/?subreddit=Prolife&size=500&before=360d\n",
      "https://api.pushshift.io/reddit/search/submission/?subreddit=Prolife&size=500&before=420d\n",
      "https://api.pushshift.io/reddit/search/submission/?subreddit=Prolife&size=500&before=480d\n",
      "https://api.pushshift.io/reddit/search/submission/?subreddit=Prolife&size=500&before=540d\n",
      "(665, 7)\n"
     ]
    }
   ],
   "source": [
    "prolife=query_pushshift('Prolife')"
   ]
  },
  {
   "cell_type": "code",
   "execution_count": 5,
   "metadata": {},
   "outputs": [
    {
     "name": "stdout",
     "output_type": "stream",
     "text": [
      "https://api.pushshift.io/reddit/search/submission/?subreddit=DebateEvolution&size=500&before=60d\n",
      "https://api.pushshift.io/reddit/search/submission/?subreddit=DebateEvolution&size=500&before=120d\n",
      "https://api.pushshift.io/reddit/search/submission/?subreddit=DebateEvolution&size=500&before=180d\n",
      "https://api.pushshift.io/reddit/search/submission/?subreddit=DebateEvolution&size=500&before=240d\n",
      "https://api.pushshift.io/reddit/search/submission/?subreddit=DebateEvolution&size=500&before=300d\n",
      "https://api.pushshift.io/reddit/search/submission/?subreddit=DebateEvolution&size=500&before=360d\n",
      "https://api.pushshift.io/reddit/search/submission/?subreddit=DebateEvolution&size=500&before=420d\n",
      "https://api.pushshift.io/reddit/search/submission/?subreddit=DebateEvolution&size=500&before=480d\n",
      "https://api.pushshift.io/reddit/search/submission/?subreddit=DebateEvolution&size=500&before=540d\n",
      "(944, 7)\n"
     ]
    }
   ],
   "source": [
    "evolution=query_pushshift('DebateEvolution')"
   ]
  },
  {
   "cell_type": "code",
   "execution_count": 6,
   "metadata": {},
   "outputs": [
    {
     "name": "stdout",
     "output_type": "stream",
     "text": [
      "https://api.pushshift.io/reddit/search/submission/?subreddit=Creation&size=500&before=60d\n",
      "https://api.pushshift.io/reddit/search/submission/?subreddit=Creation&size=500&before=120d\n",
      "https://api.pushshift.io/reddit/search/submission/?subreddit=Creation&size=500&before=180d\n",
      "https://api.pushshift.io/reddit/search/submission/?subreddit=Creation&size=500&before=240d\n",
      "https://api.pushshift.io/reddit/search/submission/?subreddit=Creation&size=500&before=300d\n",
      "https://api.pushshift.io/reddit/search/submission/?subreddit=Creation&size=500&before=360d\n",
      "https://api.pushshift.io/reddit/search/submission/?subreddit=Creation&size=500&before=420d\n",
      "https://api.pushshift.io/reddit/search/submission/?subreddit=Creation&size=500&before=480d\n",
      "https://api.pushshift.io/reddit/search/submission/?subreddit=Creation&size=500&before=540d\n",
      "(321, 7)\n"
     ]
    }
   ],
   "source": [
    "creation=query_pushshift('Creation')"
   ]
  },
  {
   "cell_type": "code",
   "execution_count": 7,
   "metadata": {},
   "outputs": [],
   "source": [
    "prochoice.to_csv('./Prochoice.csv')\n",
    "\n",
    "prolife.to_csv('./Prolife.csv')\n",
    "\n",
    "evolution.to_csv('./DebateEvolution.csv')\n",
    "\n",
    "creation.to_csv('./Creation.csv')"
   ]
  },
  {
   "cell_type": "code",
   "execution_count": 8,
   "metadata": {},
   "outputs": [
    {
     "name": "stdout",
     "output_type": "stream",
     "text": [
      "https://api.pushshift.io/reddit/search/comment/?subreddit=prochoice&size=500&before=60d\n",
      "https://api.pushshift.io/reddit/search/comment/?subreddit=prochoice&size=500&before=120d\n",
      "https://api.pushshift.io/reddit/search/comment/?subreddit=prochoice&size=500&before=180d\n",
      "https://api.pushshift.io/reddit/search/comment/?subreddit=prochoice&size=500&before=240d\n",
      "https://api.pushshift.io/reddit/search/comment/?subreddit=prochoice&size=500&before=300d\n",
      "https://api.pushshift.io/reddit/search/comment/?subreddit=prochoice&size=500&before=360d\n",
      "https://api.pushshift.io/reddit/search/comment/?subreddit=prochoice&size=500&before=420d\n",
      "https://api.pushshift.io/reddit/search/comment/?subreddit=prochoice&size=500&before=480d\n",
      "https://api.pushshift.io/reddit/search/comment/?subreddit=prochoice&size=500&before=540d\n",
      "(4499, 4)\n"
     ]
    }
   ],
   "source": [
    "prochoicecom=query_pushshift('prochoice', kind='comment')"
   ]
  },
  {
   "cell_type": "code",
   "execution_count": 9,
   "metadata": {},
   "outputs": [
    {
     "name": "stdout",
     "output_type": "stream",
     "text": [
      "https://api.pushshift.io/reddit/search/comment/?subreddit=prolife&size=500&before=60d\n",
      "https://api.pushshift.io/reddit/search/comment/?subreddit=prolife&size=500&before=120d\n",
      "https://api.pushshift.io/reddit/search/comment/?subreddit=prolife&size=500&before=180d\n",
      "https://api.pushshift.io/reddit/search/comment/?subreddit=prolife&size=500&before=240d\n",
      "https://api.pushshift.io/reddit/search/comment/?subreddit=prolife&size=500&before=300d\n",
      "https://api.pushshift.io/reddit/search/comment/?subreddit=prolife&size=500&before=360d\n",
      "https://api.pushshift.io/reddit/search/comment/?subreddit=prolife&size=500&before=420d\n",
      "https://api.pushshift.io/reddit/search/comment/?subreddit=prolife&size=500&before=480d\n",
      "https://api.pushshift.io/reddit/search/comment/?subreddit=prolife&size=500&before=540d\n",
      "(4499, 4)\n"
     ]
    }
   ],
   "source": [
    "prolifecom=query_pushshift('prolife', kind='comment')"
   ]
  },
  {
   "cell_type": "code",
   "execution_count": 10,
   "metadata": {},
   "outputs": [
    {
     "name": "stdout",
     "output_type": "stream",
     "text": [
      "https://api.pushshift.io/reddit/search/comment/?subreddit=DebateEvolution&size=500&before=60d\n",
      "https://api.pushshift.io/reddit/search/comment/?subreddit=DebateEvolution&size=500&before=120d\n",
      "https://api.pushshift.io/reddit/search/comment/?subreddit=DebateEvolution&size=500&before=180d\n",
      "https://api.pushshift.io/reddit/search/comment/?subreddit=DebateEvolution&size=500&before=240d\n",
      "https://api.pushshift.io/reddit/search/comment/?subreddit=DebateEvolution&size=500&before=300d\n",
      "https://api.pushshift.io/reddit/search/comment/?subreddit=DebateEvolution&size=500&before=360d\n",
      "https://api.pushshift.io/reddit/search/comment/?subreddit=DebateEvolution&size=500&before=420d\n",
      "https://api.pushshift.io/reddit/search/comment/?subreddit=DebateEvolution&size=500&before=480d\n",
      "https://api.pushshift.io/reddit/search/comment/?subreddit=DebateEvolution&size=500&before=540d\n",
      "(4499, 4)\n"
     ]
    }
   ],
   "source": [
    "evolutioncom=query_pushshift('DebateEvolution', kind='comment')"
   ]
  },
  {
   "cell_type": "code",
   "execution_count": 11,
   "metadata": {},
   "outputs": [
    {
     "name": "stdout",
     "output_type": "stream",
     "text": [
      "https://api.pushshift.io/reddit/search/comment/?subreddit=Creation&size=500&before=60d\n",
      "https://api.pushshift.io/reddit/search/comment/?subreddit=Creation&size=500&before=120d\n",
      "https://api.pushshift.io/reddit/search/comment/?subreddit=Creation&size=500&before=180d\n",
      "https://api.pushshift.io/reddit/search/comment/?subreddit=Creation&size=500&before=240d\n",
      "https://api.pushshift.io/reddit/search/comment/?subreddit=Creation&size=500&before=300d\n",
      "https://api.pushshift.io/reddit/search/comment/?subreddit=Creation&size=500&before=360d\n",
      "https://api.pushshift.io/reddit/search/comment/?subreddit=Creation&size=500&before=420d\n",
      "https://api.pushshift.io/reddit/search/comment/?subreddit=Creation&size=500&before=480d\n",
      "https://api.pushshift.io/reddit/search/comment/?subreddit=Creation&size=500&before=540d\n",
      "(3499, 4)\n"
     ]
    }
   ],
   "source": [
    "creationcom=query_pushshift('Creation', kind='comment')"
   ]
  },
  {
   "cell_type": "code",
   "execution_count": 12,
   "metadata": {},
   "outputs": [],
   "source": [
    "prochoicecom.to_csv('./ProchoiceComments.csv', encoding='utf-8')\n",
    "\n",
    "prolifecom.to_csv('./ProlifeComments.csv', encoding='utf-8')\n",
    "\n",
    "evolutioncom.to_csv('./DebateEvolutionComments.csv', encoding='utf-8')\n",
    "\n",
    "creationcom.to_csv('./CreationComments.csv', encoding='utf-8')"
   ]
  },
  {
   "cell_type": "code",
   "execution_count": 2,
   "metadata": {},
   "outputs": [],
   "source": [
    "# Modified query function to just pull titles of recently \n",
    "# submitted submissions\n",
    "\n",
    "def mod_query_pushshift (skip=1, \n",
    "                         times=15, \n",
    "                         subfields=['title', 'score', 'subreddit', \n",
    "                                    'created_utc', \n",
    "                                    'num_comments']):\n",
    "    \n",
    "    # Initalize the list holding all the query results\n",
    "    mylist = []\n",
    "    \n",
    "    # Create stem of the API query string\n",
    "    stem=\"https://api.pushshift.io/reddit/search/submission/?num_comments=>100&size=500\" \n",
    "    \n",
    "    # Iterate through queries and convert each query to a dictionary\n",
    "    for i in range(1, times):\n",
    "        # Skipping backwards in time, each query looks for older records\n",
    "        URL=stem+\"&before=\"+str(skip*i)+\"d\"\n",
    "        print (URL)\n",
    "        response = requests.get(URL)\n",
    "        mine= response.json()['data']\n",
    "        df=pd.DataFrame.from_dict(mine)\n",
    "        mylist.append(df)\n",
    "        time.sleep(3)\n",
    "        \n",
    "    # Stitch the query frames back together\n",
    "    full=pd.concat(mylist)\n",
    "    \n",
    "    # Limit the features to the ones we're interested in\n",
    "    full=full[subfields]\n",
    "        \n",
    "    #De-duplicate the observations\n",
    "    full=full.drop_duplicates()\n",
    "    \n",
    "    # Convert the time to a Pandas DateTime Object (courtsey of \n",
    "    #http://www.storybench.org/how-to-scrape-reddit-with-python/)\n",
    "    \n",
    "    def get_date(created):\n",
    "        return dt.datetime.fromtimestamp(created)\n",
    "    \n",
    "    _timestamp = full[\"created_utc\"].apply(get_date)\n",
    "    \n",
    "    full['timestamp']=_timestamp\n",
    "    \n",
    "    \n",
    "    #Confirm the shape of the output\n",
    "    print (full.shape)\n",
    "    \n",
    "    return full\n",
    "    "
   ]
  },
  {
   "cell_type": "code",
   "execution_count": 3,
   "metadata": {},
   "outputs": [
    {
     "name": "stdout",
     "output_type": "stream",
     "text": [
      "https://api.pushshift.io/reddit/search/submission/?num_comments=>100&size=500&before=1d\n",
      "https://api.pushshift.io/reddit/search/submission/?num_comments=>100&size=500&before=2d\n",
      "https://api.pushshift.io/reddit/search/submission/?num_comments=>100&size=500&before=3d\n",
      "https://api.pushshift.io/reddit/search/submission/?num_comments=>100&size=500&before=4d\n",
      "https://api.pushshift.io/reddit/search/submission/?num_comments=>100&size=500&before=5d\n",
      "https://api.pushshift.io/reddit/search/submission/?num_comments=>100&size=500&before=6d\n",
      "https://api.pushshift.io/reddit/search/submission/?num_comments=>100&size=500&before=7d\n",
      "https://api.pushshift.io/reddit/search/submission/?num_comments=>100&size=500&before=8d\n",
      "https://api.pushshift.io/reddit/search/submission/?num_comments=>100&size=500&before=9d\n",
      "https://api.pushshift.io/reddit/search/submission/?num_comments=>100&size=500&before=10d\n",
      "https://api.pushshift.io/reddit/search/submission/?num_comments=>100&size=500&before=11d\n",
      "https://api.pushshift.io/reddit/search/submission/?num_comments=>100&size=500&before=12d\n",
      "https://api.pushshift.io/reddit/search/submission/?num_comments=>100&size=500&before=13d\n",
      "https://api.pushshift.io/reddit/search/submission/?num_comments=>100&size=500&before=14d\n",
      "(7000, 6)\n"
     ]
    }
   ],
   "source": [
    "general=mod_query_pushshift()"
   ]
  },
  {
   "cell_type": "code",
   "execution_count": 4,
   "metadata": {},
   "outputs": [
    {
     "data": {
      "text/plain": [
       "169.0"
      ]
     },
     "execution_count": 4,
     "metadata": {},
     "output_type": "execute_result"
    }
   ],
   "source": [
    "general['num_comments'].median()\n"
   ]
  },
  {
   "cell_type": "code",
   "execution_count": 5,
   "metadata": {},
   "outputs": [
    {
     "data": {
      "text/plain": [
       "count     7000.000000\n",
       "mean       310.812286\n",
       "std        640.331762\n",
       "min        101.000000\n",
       "25%        125.000000\n",
       "50%        169.000000\n",
       "75%        281.000000\n",
       "max      25236.000000\n",
       "Name: num_comments, dtype: float64"
      ]
     },
     "execution_count": 5,
     "metadata": {},
     "output_type": "execute_result"
    }
   ],
   "source": [
    "general['num_comments'].describe()"
   ]
  },
  {
   "cell_type": "code",
   "execution_count": 6,
   "metadata": {},
   "outputs": [
    {
     "data": {
      "text/plain": [
       "104      94\n",
       "103      88\n",
       "111      86\n",
       "108      84\n",
       "102      84\n",
       "101      83\n",
       "109      83\n",
       "105      77\n",
       "107      76\n",
       "110      74\n",
       "106      73\n",
       "121      72\n",
       "112      72\n",
       "119      70\n",
       "120      69\n",
       "113      68\n",
       "115      67\n",
       "114      66\n",
       "134      66\n",
       "116      65\n",
       "129      64\n",
       "117      62\n",
       "118      61\n",
       "125      60\n",
       "124      58\n",
       "133      56\n",
       "128      56\n",
       "126      54\n",
       "123      53\n",
       "122      53\n",
       "         ..\n",
       "1665      1\n",
       "1641      1\n",
       "1601      1\n",
       "1589      1\n",
       "7730      1\n",
       "1545      1\n",
       "5627      1\n",
       "1505      1\n",
       "3540      1\n",
       "9657      1\n",
       "1417      1\n",
       "7882      1\n",
       "1753      1\n",
       "3816      1\n",
       "1965      1\n",
       "10407     1\n",
       "2139      1\n",
       "2131      1\n",
       "2115      1\n",
       "2099      1\n",
       "1977      1\n",
       "1937      1\n",
       "1781      1\n",
       "25236     1\n",
       "1917      1\n",
       "3928      1\n",
       "1833      1\n",
       "1805      1\n",
       "1785      1\n",
       "2049      1\n",
       "Name: num_comments, Length: 951, dtype: int64"
      ]
     },
     "execution_count": 6,
     "metadata": {},
     "output_type": "execute_result"
    }
   ],
   "source": [
    "general['num_comments'].value_counts()"
   ]
  },
  {
   "cell_type": "code",
   "execution_count": 7,
   "metadata": {},
   "outputs": [
    {
     "data": {
      "text/html": [
       "<div>\n",
       "<style scoped>\n",
       "    .dataframe tbody tr th:only-of-type {\n",
       "        vertical-align: middle;\n",
       "    }\n",
       "\n",
       "    .dataframe tbody tr th {\n",
       "        vertical-align: top;\n",
       "    }\n",
       "\n",
       "    .dataframe thead th {\n",
       "        text-align: right;\n",
       "    }\n",
       "</style>\n",
       "<table border=\"1\" class=\"dataframe\">\n",
       "  <thead>\n",
       "    <tr style=\"text-align: right;\">\n",
       "      <th></th>\n",
       "      <th>title</th>\n",
       "      <th>score</th>\n",
       "      <th>subreddit</th>\n",
       "      <th>created_utc</th>\n",
       "      <th>num_comments</th>\n",
       "      <th>timestamp</th>\n",
       "    </tr>\n",
       "  </thead>\n",
       "  <tbody>\n",
       "    <tr>\n",
       "      <th>0</th>\n",
       "      <td>Tay-K's Manager Confirms the Rapper Isn't Faci...</td>\n",
       "      <td>1</td>\n",
       "      <td>hiphopheads</td>\n",
       "      <td>1527191819</td>\n",
       "      <td>296</td>\n",
       "      <td>2018-05-24 15:56:59</td>\n",
       "    </tr>\n",
       "    <tr>\n",
       "      <th>1</th>\n",
       "      <td>If the Capitals win the Stanley Cup Ovechkins ...</td>\n",
       "      <td>1</td>\n",
       "      <td>hockey</td>\n",
       "      <td>1527191792</td>\n",
       "      <td>174</td>\n",
       "      <td>2018-05-24 15:56:32</td>\n",
       "    </tr>\n",
       "    <tr>\n",
       "      <th>2</th>\n",
       "      <td>Pro way to check if both brake light bulbs work.</td>\n",
       "      <td>1</td>\n",
       "      <td>motorcycles</td>\n",
       "      <td>1527191778</td>\n",
       "      <td>202</td>\n",
       "      <td>2018-05-24 15:56:18</td>\n",
       "    </tr>\n",
       "    <tr>\n",
       "      <th>3</th>\n",
       "      <td>Otto per mille, alla Chiesa Cattolica un milia...</td>\n",
       "      <td>1</td>\n",
       "      <td>italy</td>\n",
       "      <td>1527191759</td>\n",
       "      <td>107</td>\n",
       "      <td>2018-05-24 15:55:59</td>\n",
       "    </tr>\n",
       "    <tr>\n",
       "      <th>4</th>\n",
       "      <td>Reminder: Why Lebron's Supporting Cast Being B...</td>\n",
       "      <td>1</td>\n",
       "      <td>nba</td>\n",
       "      <td>1527191751</td>\n",
       "      <td>272</td>\n",
       "      <td>2018-05-24 15:55:51</td>\n",
       "    </tr>\n",
       "  </tbody>\n",
       "</table>\n",
       "</div>"
      ],
      "text/plain": [
       "                                               title  score    subreddit  \\\n",
       "0  Tay-K's Manager Confirms the Rapper Isn't Faci...      1  hiphopheads   \n",
       "1  If the Capitals win the Stanley Cup Ovechkins ...      1       hockey   \n",
       "2   Pro way to check if both brake light bulbs work.      1  motorcycles   \n",
       "3  Otto per mille, alla Chiesa Cattolica un milia...      1        italy   \n",
       "4  Reminder: Why Lebron's Supporting Cast Being B...      1          nba   \n",
       "\n",
       "   created_utc  num_comments           timestamp  \n",
       "0   1527191819           296 2018-05-24 15:56:59  \n",
       "1   1527191792           174 2018-05-24 15:56:32  \n",
       "2   1527191778           202 2018-05-24 15:56:18  \n",
       "3   1527191759           107 2018-05-24 15:55:59  \n",
       "4   1527191751           272 2018-05-24 15:55:51  "
      ]
     },
     "execution_count": 7,
     "metadata": {},
     "output_type": "execute_result"
    }
   ],
   "source": [
    "general.head()"
   ]
  },
  {
   "cell_type": "code",
   "execution_count": 8,
   "metadata": {},
   "outputs": [],
   "source": [
    "general.to_csv('./general.csv', encoding='utf-8')"
   ]
  },
  {
   "cell_type": "code",
   "execution_count": null,
   "metadata": {},
   "outputs": [],
   "source": []
  }
 ],
 "metadata": {
  "kernelspec": {
   "display_name": "Python 3",
   "language": "python",
   "name": "python3"
  },
  "language_info": {
   "codemirror_mode": {
    "name": "ipython",
    "version": 3
   },
   "file_extension": ".py",
   "mimetype": "text/x-python",
   "name": "python",
   "nbconvert_exporter": "python",
   "pygments_lexer": "ipython3",
   "version": "3.6.5"
  }
 },
 "nbformat": 4,
 "nbformat_minor": 2
}
