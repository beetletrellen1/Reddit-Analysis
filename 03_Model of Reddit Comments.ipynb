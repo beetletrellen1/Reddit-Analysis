{
 "cells": [
  {
   "cell_type": "code",
   "execution_count": 1,
   "metadata": {},
   "outputs": [
    {
     "name": "stderr",
     "output_type": "stream",
     "text": [
      "/anaconda3/envs/dsi/lib/python3.6/site-packages/statsmodels/compat/pandas.py:56: FutureWarning: The pandas.core.datetools module is deprecated and will be removed in a future version. Please use the pandas.tseries module instead.\n",
      "  from pandas.core import datetools\n"
     ]
    }
   ],
   "source": [
    "import numpy as np\n",
    "np.random.seed(523)\n",
    "import pandas as pd\n",
    "import matplotlib.pyplot as plt\n",
    "import pylab as pl\n",
    "%matplotlib inline\n",
    "\n",
    "from sklearn.model_selection import train_test_split, GridSearchCV\n",
    "from sklearn.feature_extraction.text import CountVectorizer, TfidfTransformer, TfidfVectorizer\n",
    "from sklearn.linear_model import LogisticRegression\n",
    "from sklearn.pipeline import Pipeline, FeatureUnion\n",
    "from sklearn.preprocessing import StandardScaler\n",
    "from sklearn.metrics import confusion_matrix, f1_score\n",
    "from sklearn.naive_bayes import MultinomialNB\n",
    "from sklearn.ensemble import RandomForestClassifier\n",
    "from sklearn.metrics import roc_auc_score\n",
    "from matplotlib import rcParams\n",
    "rcParams.update({'figure.autolayout':True})\n",
    "import statsmodels.api as sm\n",
    "from scipy.sparse import coo_matrix, hstack"
   ]
  },
  {
   "cell_type": "code",
   "execution_count": 2,
   "metadata": {},
   "outputs": [],
   "source": [
    "## Helper function by dbaghern\n",
    "## https://www.kaggle.com/baghern/a-deep-dive-into-sklearn-pipelines\n",
    "\n",
    "from sklearn.base import BaseEstimator, TransformerMixin\n",
    "\n",
    "class Selector(BaseEstimator, TransformerMixin):\n",
    "    \"\"\"\n",
    "    Transformer to select a single column from the data frame to perform additional transformations on\n",
    "    Use on text columns in the data\n",
    "    \"\"\"\n",
    "    def __init__(self, key):\n",
    "        self.key = key\n",
    "\n",
    "    def fit(self, X, y=None):\n",
    "        return self\n",
    "\n",
    "    def transform(self, X):\n",
    "        return X[self.key]"
   ]
  },
  {
   "cell_type": "code",
   "execution_count": 3,
   "metadata": {},
   "outputs": [],
   "source": [
    "def plot_roc (model, X, y):\n",
    "    \n",
    "    # model=lasso1\n",
    "    # X = X_test_scaled\n",
    "    # y = y_test\n",
    "\n",
    "    # probabilities of ckd\n",
    "    ckd_probs=model.predict_proba(X)[:,1]\n",
    "\n",
    "    oneminusspec_list=[]\n",
    "    sensitivity_list=[]\n",
    "\n",
    "    threshes=np.linspace(0,1, 100)\n",
    "    for thresh in threshes:\n",
    "     \n",
    "        # initialize the confusion matrix tally for this particular threshold\n",
    "        TP=0\n",
    "        FP=0\n",
    "        FN=0\n",
    "        TN=0\n",
    "    \n",
    "        # For every threshold, compute the confusion matrix values\n",
    "        for obs_num in range(len(y)):\n",
    "            if ckd_probs[obs_num]>=thresh:\n",
    "                predict_sick=True\n",
    "            else:\n",
    "                predict_sick=False\n",
    "\n",
    "            if y[obs_num]==1:\n",
    "                sick=True\n",
    "            else:\n",
    "                sick=False\n",
    "\n",
    "            if predict_sick and sick:\n",
    "                TP += 1\n",
    "            elif predict_sick and not sick:\n",
    "                FP += 1\n",
    "            elif not predict_sick and sick:\n",
    "                FN += 1\n",
    "            else:\n",
    "                TN += 1\n",
    "\n",
    "        # For every threshold, compute and record the oneminusspec\n",
    "        # value and the sensitivity value\n",
    "        sensitivity = TP / (TP + FN)\n",
    "        specificity = TN / (TN + FP)\n",
    "        oneminusspec = 1 - specificity\n",
    "\n",
    "        oneminusspec_list.append(oneminusspec)\n",
    "        sensitivity_list.append(sensitivity)\n",
    "\n",
    "\n",
    "    oneminusspec_list=list(reversed(oneminusspec_list))\n",
    "    sensitivity_list=list(reversed(sensitivity_list))\n",
    "\n",
    "    oneminusspec_list\n",
    "    sensitivity_list\n",
    "\n",
    "    figure, ax = plt.subplots(figsize=(7,7))\n",
    "    plt.plot(oneminusspec_list, sensitivity_list)\n",
    "    x=np.linspace(0,1, num=50)\n",
    "    y=x\n",
    "    plt.plot(x,y, 'r')\n",
    "    ax.set_xlabel(\"False positive rate\", fontsize=20)\n",
    "    ax.set_ylabel(\"Sensitivity\", fontsize=20)"
   ]
  },
  {
   "cell_type": "markdown",
   "metadata": {},
   "source": [
    "# General Classification of Reddit Threads"
   ]
  },
  {
   "cell_type": "markdown",
   "metadata": {},
   "source": [
    "## 1. TrainTestSplit and One-Hot Encoding of Subreddit"
   ]
  },
  {
   "cell_type": "code",
   "execution_count": 4,
   "metadata": {},
   "outputs": [],
   "source": [
    "df=pd.read_pickle('./general_pickle')"
   ]
  },
  {
   "cell_type": "code",
   "execution_count": 5,
   "metadata": {},
   "outputs": [],
   "source": [
    "X=df[['title', 'subreddit', 'elapsed', 'title_length', 'feature_question', 'feature_exclaim']]\n",
    "y =df[['class']]"
   ]
  },
  {
   "cell_type": "code",
   "execution_count": 6,
   "metadata": {},
   "outputs": [],
   "source": [
    "X_train, X_test, y_train, y_test = train_test_split(X, \n",
    "                                                    y, \n",
    "                                                    test_size=.3,\n",
    "                                                   random_state=42)"
   ]
  },
  {
   "cell_type": "code",
   "execution_count": 7,
   "metadata": {},
   "outputs": [],
   "source": [
    "X_train=X_train.copy()\n",
    "X_test=X_test.copy()"
   ]
  },
  {
   "cell_type": "code",
   "execution_count": 8,
   "metadata": {},
   "outputs": [],
   "source": [
    "mapping=X_train['subreddit'].value_counts()"
   ]
  },
  {
   "cell_type": "code",
   "execution_count": 9,
   "metadata": {},
   "outputs": [],
   "source": [
    "# Dumping the less common subreddits into an \"other\" bin\n",
    "\n",
    "def convert(x):\n",
    "    try:\n",
    "        if mapping[x]>10:\n",
    "            return x\n",
    "        else:\n",
    "            return \"other\"\n",
    "    except:\n",
    "        return \"other\""
   ]
  },
  {
   "cell_type": "code",
   "execution_count": 10,
   "metadata": {},
   "outputs": [],
   "source": [
    "X_train['subreddit']=X_train['subreddit'].apply(convert)\n",
    "X_test['subreddit']=X_test['subreddit'].apply(convert)"
   ]
  },
  {
   "cell_type": "code",
   "execution_count": 11,
   "metadata": {},
   "outputs": [],
   "source": [
    "X_train=pd.get_dummies(X_train, prefix=['subreddit'], columns=['subreddit'], drop_first=True)\n",
    "X_test=pd.get_dummies(X_test, prefix=['subreddit'], columns=['subreddit'], drop_first=True)"
   ]
  },
  {
   "cell_type": "code",
   "execution_count": 12,
   "metadata": {},
   "outputs": [],
   "source": [
    "# Mismatch Correction Code Courtesy of Ben Shaver\n",
    "\n",
    "model_cols = X_train.columns\n",
    "\n",
    "def add_model_cols(data, model_cols):\n",
    "    new_data = data.copy()\n",
    "    for missing_col in [col for col in model_cols if col not in data.columns]:\n",
    "        new_data[missing_col] = 0\n",
    "    return new_data\n",
    "\n",
    "X_test = add_model_cols(X_test, model_cols=model_cols)"
   ]
  },
  {
   "cell_type": "code",
   "execution_count": 13,
   "metadata": {},
   "outputs": [
    {
     "data": {
      "text/plain": [
       "(4900, 96)"
      ]
     },
     "execution_count": 13,
     "metadata": {},
     "output_type": "execute_result"
    }
   ],
   "source": [
    "X_train.shape"
   ]
  },
  {
   "cell_type": "code",
   "execution_count": 14,
   "metadata": {},
   "outputs": [
    {
     "data": {
      "text/plain": [
       "(2100, 96)"
      ]
     },
     "execution_count": 14,
     "metadata": {},
     "output_type": "execute_result"
    }
   ],
   "source": [
    "X_test.shape"
   ]
  },
  {
   "cell_type": "markdown",
   "metadata": {},
   "source": [
    "## 2. Build Logistic Regression Pipeline"
   ]
  },
  {
   "cell_type": "code",
   "execution_count": 15,
   "metadata": {},
   "outputs": [
    {
     "data": {
      "text/plain": [
       "0.5004081632653061"
      ]
     },
     "execution_count": 15,
     "metadata": {},
     "output_type": "execute_result"
    }
   ],
   "source": [
    "# This is the baseline accuracy score\n",
    "\n",
    "baseline=y_train['class'].value_counts().max()/y_train.shape[0]\n",
    "baseline"
   ]
  },
  {
   "cell_type": "code",
   "execution_count": 16,
   "metadata": {},
   "outputs": [],
   "source": [
    "y_train=y_train['class'].ravel()\n",
    "y_test=y_test['class'].ravel()"
   ]
  },
  {
   "cell_type": "code",
   "execution_count": 17,
   "metadata": {},
   "outputs": [],
   "source": [
    "# I closely followed a very helpful kaggle tutorial to figure out how to build\n",
    "# a system of pipelines for heterogenous data\n",
    "# https://www.kaggle.com/baghern/a-deep-dive-into-sklearn-pipelines"
   ]
  },
  {
   "cell_type": "code",
   "execution_count": 18,
   "metadata": {},
   "outputs": [],
   "source": [
    "nonword=list(X_train.columns)\n",
    "del(nonword[0])\n",
    "\n",
    "\n",
    "\n",
    "nonword_pipeline = Pipeline([\n",
    "    ('selector', Selector(key=nonword)),\n",
    "    ('ss', StandardScaler())\n",
    "])\n",
    "\n",
    "\n",
    "\n",
    "word_pipeline = Pipeline([\n",
    "    ('selector', Selector(key='title')),\n",
    "    ('vect', CountVectorizer()),\n",
    "    ('tfidf', TfidfTransformer())\n",
    "])\n",
    "\n",
    "\n",
    "\n",
    "merge = FeatureUnion([\n",
    "    ('word', word_pipeline),\n",
    "    ('nonword', nonword_pipeline)\n",
    "])\n",
    "\n",
    "\n",
    "main_pipeline = Pipeline([\n",
    "    ('merger',merge),\n",
    "    ('logreg', LogisticRegression()),\n",
    "])\n",
    "\n",
    "main_pipeline.fit(X_train, y_train)"
   ]
  },
  {
   "cell_type": "code",
   "execution_count": 24,
   "metadata": {},
   "outputs": [
    {
     "data": {
      "text/plain": [
       "0.5914285714285714"
      ]
     },
     "execution_count": 24,
     "metadata": {},
     "output_type": "execute_result"
    }
   ],
   "source": [
    "main_pipeline.score(X_test, y_test)"
   ]
  },
  {
   "cell_type": "code",
   "execution_count": 25,
   "metadata": {},
   "outputs": [
    {
     "data": {
      "text/plain": [
       "0.8369387755102041"
      ]
     },
     "execution_count": 25,
     "metadata": {},
     "output_type": "execute_result"
    }
   ],
   "source": [
    "main_pipeline.score(X_train, y_train)"
   ]
  },
  {
   "cell_type": "markdown",
   "metadata": {},
   "source": [
    "## 3. Grid Search Logistic Regression Pipeline"
   ]
  },
  {
   "cell_type": "code",
   "execution_count": 26,
   "metadata": {},
   "outputs": [],
   "source": [
    "# For convenience, git a directory of all possible tuning parameters\n",
    "\n",
    "#list(main_pipeline.get_params().keys())"
   ]
  },
  {
   "cell_type": "markdown",
   "metadata": {},
   "source": [
    "### 3.A. Hunting for best text vectorizer parameters"
   ]
  },
  {
   "cell_type": "code",
   "execution_count": 27,
   "metadata": {},
   "outputs": [],
   "source": [
    "hyperparameters={\n",
    "                'logreg__penalty': ['l2'],\n",
    "                'logreg__C': [1], \n",
    "                'merger__word__tfidf__use_idf': [False],\n",
    "                 'merger__word__vect__max_df': [0.01],\n",
    "                 'merger__word__vect__ngram_range': [(1,3)],\n",
    "                'merger__transformer_weights': [\n",
    "                                                {'word': .75, 'nonword': .25},\n",
    "                                                {'word': .80, 'nonword': .15}, \n",
    "                                                {'word': .95, 'nonword': .05},\n",
    "                                                {'word':1, 'nonword': 0}]}\n",
    "\n",
    "grid = GridSearchCV(main_pipeline, hyperparameters, cv=3)\n",
    " \n",
    "# Fit and tune model\n",
    "_=grid.fit(X_train, y_train)"
   ]
  },
  {
   "cell_type": "code",
   "execution_count": 28,
   "metadata": {},
   "outputs": [
    {
     "data": {
      "text/plain": [
       "{'logreg__C': 1,\n",
       " 'logreg__penalty': 'l2',\n",
       " 'merger__transformer_weights': {'word': 0.95, 'nonword': 0.05},\n",
       " 'merger__word__tfidf__use_idf': False,\n",
       " 'merger__word__vect__max_df': 0.01,\n",
       " 'merger__word__vect__ngram_range': (1, 3)}"
      ]
     },
     "execution_count": 28,
     "metadata": {},
     "output_type": "execute_result"
    }
   ],
   "source": [
    "grid.best_params_"
   ]
  },
  {
   "cell_type": "code",
   "execution_count": 29,
   "metadata": {},
   "outputs": [
    {
     "data": {
      "text/plain": [
       "0.9112244897959184"
      ]
     },
     "execution_count": 29,
     "metadata": {},
     "output_type": "execute_result"
    }
   ],
   "source": [
    "grid.score(X_train, y_train)"
   ]
  },
  {
   "cell_type": "code",
   "execution_count": 30,
   "metadata": {},
   "outputs": [
    {
     "data": {
      "text/plain": [
       "0.59"
      ]
     },
     "execution_count": 30,
     "metadata": {},
     "output_type": "execute_result"
    }
   ],
   "source": [
    "grid.score(X_test, y_test)"
   ]
  },
  {
   "cell_type": "code",
   "execution_count": 31,
   "metadata": {},
   "outputs": [],
   "source": [
    "tn, fp, fn, tp = confusion_matrix(y_test, grid.predict(X_test)).ravel()"
   ]
  },
  {
   "cell_type": "code",
   "execution_count": 32,
   "metadata": {},
   "outputs": [
    {
     "data": {
      "text/plain": [
       "0.6522988505747126"
      ]
     },
     "execution_count": 32,
     "metadata": {},
     "output_type": "execute_result"
    }
   ],
   "source": [
    "# Specificity\n",
    "\n",
    "tn/(fp+tn)"
   ]
  },
  {
   "cell_type": "code",
   "execution_count": 33,
   "metadata": {},
   "outputs": [
    {
     "data": {
      "text/plain": [
       "0.5284090909090909"
      ]
     },
     "execution_count": 33,
     "metadata": {},
     "output_type": "execute_result"
    }
   ],
   "source": [
    "# Sensitivity\n",
    "\n",
    "tp/(fn+tp)"
   ]
  },
  {
   "cell_type": "markdown",
   "metadata": {},
   "source": [
    "### 3.B. Logistic had a hard time classifying these data.  ROC curve is pretty close to the diagonal."
   ]
  },
  {
   "cell_type": "code",
   "execution_count": 34,
   "metadata": {},
   "outputs": [
    {
     "name": "stderr",
     "output_type": "stream",
     "text": [
      "/anaconda3/envs/dsi/lib/python3.6/site-packages/matplotlib/figure.py:2267: UserWarning: This figure includes Axes that are not compatible with tight_layout, so results might be incorrect.\n",
      "  warnings.warn(\"This figure includes Axes that are not compatible \"\n"
     ]
    },
    {
     "data": {
      "image/png": "[encoded data removed]",
      "text/plain": [
       "<Figure size 504x504 with 1 Axes>"
      ]
     },
     "metadata": {},
     "output_type": "display_data"
    }
   ],
   "source": [
    "plot_roc(grid, X_test, y_test)\n",
    "\n",
    "plt.savefig(\"./class1.png\")"
   ]
  },
  {
   "cell_type": "code",
   "execution_count": 80,
   "metadata": {},
   "outputs": [
    {
     "data": {
      "text/plain": [
       "0.542271135567784"
      ]
     },
     "execution_count": 80,
     "metadata": {},
     "output_type": "execute_result"
    }
   ],
   "source": [
    "f1_score(y_test, grid.predict(X_test))"
   ]
  },
  {
   "cell_type": "markdown",
   "metadata": {},
   "source": [
    "### 3.C. Out of curiosity, teasing out the features with positive regression coefficients"
   ]
  },
  {
   "cell_type": "code",
   "execution_count": 36,
   "metadata": {},
   "outputs": [],
   "source": [
    "\n",
    "fixed_word_pipeline = Pipeline([\n",
    "    ('selector', Selector(key='title')),\n",
    "    ('vect', CountVectorizer(max_df=.01, ngram_range=(1,3))),\n",
    "    ('tfidf', TfidfTransformer(use_idf=True))\n",
    "])\n",
    "\n",
    "\n",
    "wp=fixed_word_pipeline.fit(X_train, y_train)"
   ]
  },
  {
   "cell_type": "code",
   "execution_count": 37,
   "metadata": {},
   "outputs": [],
   "source": [
    "fixed_nonword_pipeline = Pipeline([\n",
    "    ('selector', Selector(key=nonword)),\n",
    "    ('ss', StandardScaler())\n",
    "])\n",
    "\n",
    "nwp=fixed_nonword_pipeline.fit(X_train, y_train)\n"
   ]
  },
  {
   "cell_type": "code",
   "execution_count": 38,
   "metadata": {},
   "outputs": [],
   "source": [
    "vocab=fixed_word_pipeline.named_steps['vect']"
   ]
  },
  {
   "cell_type": "code",
   "execution_count": 39,
   "metadata": {},
   "outputs": [],
   "source": [
    "vocab_list=vocab.get_feature_names()"
   ]
  },
  {
   "cell_type": "code",
   "execution_count": 40,
   "metadata": {},
   "outputs": [],
   "source": [
    "fu=FeatureUnion(\n",
    "    [('word',wp), ('nonword', nwp)], \n",
    "    transformer_weights={'word': 0.95, 'nonword': 0.05},\n",
    ")"
   ]
  },
  {
   "cell_type": "code",
   "execution_count": 41,
   "metadata": {},
   "outputs": [],
   "source": [
    "features=fu.fit_transform(X_train)"
   ]
  },
  {
   "cell_type": "code",
   "execution_count": 42,
   "metadata": {},
   "outputs": [],
   "source": [
    "lr=LogisticRegression(C=1, penalty='l2')\n"
   ]
  },
  {
   "cell_type": "code",
   "execution_count": 43,
   "metadata": {},
   "outputs": [
    {
     "data": {
      "text/plain": [
       "LogisticRegression(C=1, class_weight=None, dual=False, fit_intercept=True,\n",
       "          intercept_scaling=1, max_iter=100, multi_class='ovr', n_jobs=1,\n",
       "          penalty='l2', random_state=None, solver='liblinear', tol=0.0001,\n",
       "          verbose=0, warm_start=False)"
      ]
     },
     "execution_count": 43,
     "metadata": {},
     "output_type": "execute_result"
    }
   ],
   "source": [
    "lr.fit(features, y_train)"
   ]
  },
  {
   "cell_type": "code",
   "execution_count": 44,
   "metadata": {},
   "outputs": [
    {
     "data": {
      "text/plain": [
       "array([-0.05743394, -0.05743394, -0.05743394, ...,  1.44998829,\n",
       "        0.25579605, -0.37668075])"
      ]
     },
     "execution_count": 44,
     "metadata": {},
     "output_type": "execute_result"
    }
   ],
   "source": [
    "lr.coef_.ravel()"
   ]
  },
  {
   "cell_type": "code",
   "execution_count": 45,
   "metadata": {},
   "outputs": [],
   "source": [
    "featurenames=vocab_list+nonword"
   ]
  },
  {
   "cell_type": "code",
   "execution_count": 46,
   "metadata": {},
   "outputs": [],
   "source": [
    "explanation=pd.DataFrame({'name':featurenames, 'coefs':lr.coef_.ravel()})"
   ]
  },
  {
   "cell_type": "code",
   "execution_count": 47,
   "metadata": {},
   "outputs": [
    {
     "data": {
      "text/html": [
       "<div>\n",
       "<style scoped>\n",
       "    .dataframe tbody tr th:only-of-type {\n",
       "        vertical-align: middle;\n",
       "    }\n",
       "\n",
       "    .dataframe tbody tr th {\n",
       "        vertical-align: top;\n",
       "    }\n",
       "\n",
       "    .dataframe thead th {\n",
       "        text-align: right;\n",
       "    }\n",
       "</style>\n",
       "<table border=\"1\" class=\"dataframe\">\n",
       "  <thead>\n",
       "    <tr style=\"text-align: right;\">\n",
       "      <th></th>\n",
       "      <th>coefs</th>\n",
       "      <th>name</th>\n",
       "    </tr>\n",
       "  </thead>\n",
       "  <tbody>\n",
       "    <tr>\n",
       "      <th>62551</th>\n",
       "      <td>2.040162</td>\n",
       "      <td>subreddit_funny</td>\n",
       "    </tr>\n",
       "    <tr>\n",
       "      <th>62553</th>\n",
       "      <td>1.628590</td>\n",
       "      <td>subreddit_gifs</td>\n",
       "    </tr>\n",
       "    <tr>\n",
       "      <th>62560</th>\n",
       "      <td>1.549417</td>\n",
       "      <td>subreddit_leagueoflegends</td>\n",
       "    </tr>\n",
       "    <tr>\n",
       "      <th>62585</th>\n",
       "      <td>1.449988</td>\n",
       "      <td>subreddit_worldnews</td>\n",
       "    </tr>\n",
       "    <tr>\n",
       "      <th>62530</th>\n",
       "      <td>1.288071</td>\n",
       "      <td>subreddit_Showerthoughts</td>\n",
       "    </tr>\n",
       "    <tr>\n",
       "      <th>62579</th>\n",
       "      <td>1.218060</td>\n",
       "      <td>subreddit_todayilearned</td>\n",
       "    </tr>\n",
       "    <tr>\n",
       "      <th>20789</th>\n",
       "      <td>1.132568</td>\n",
       "      <td>game thread</td>\n",
       "    </tr>\n",
       "    <tr>\n",
       "      <th>62568</th>\n",
       "      <td>1.124170</td>\n",
       "      <td>subreddit_news</td>\n",
       "    </tr>\n",
       "    <tr>\n",
       "      <th>62558</th>\n",
       "      <td>1.092520</td>\n",
       "      <td>subreddit_hiphopheads</td>\n",
       "    </tr>\n",
       "    <tr>\n",
       "      <th>3901</th>\n",
       "      <td>1.057203</td>\n",
       "      <td>bad</td>\n",
       "    </tr>\n",
       "    <tr>\n",
       "      <th>62499</th>\n",
       "      <td>1.011483</td>\n",
       "      <td>subreddit_AskReddit</td>\n",
       "    </tr>\n",
       "    <tr>\n",
       "      <th>62508</th>\n",
       "      <td>0.934401</td>\n",
       "      <td>subreddit_DestinyTheGame</td>\n",
       "    </tr>\n",
       "    <tr>\n",
       "      <th>62573</th>\n",
       "      <td>0.931198</td>\n",
       "      <td>subreddit_politics</td>\n",
       "    </tr>\n",
       "    <tr>\n",
       "      <th>28199</th>\n",
       "      <td>0.924347</td>\n",
       "      <td>kids</td>\n",
       "    </tr>\n",
       "    <tr>\n",
       "      <th>49942</th>\n",
       "      <td>0.895902</td>\n",
       "      <td>solo</td>\n",
       "    </tr>\n",
       "    <tr>\n",
       "      <th>33351</th>\n",
       "      <td>0.861774</td>\n",
       "      <td>megathread</td>\n",
       "    </tr>\n",
       "    <tr>\n",
       "      <th>62521</th>\n",
       "      <td>0.860823</td>\n",
       "      <td>subreddit_MMA</td>\n",
       "    </tr>\n",
       "    <tr>\n",
       "      <th>62584</th>\n",
       "      <td>0.817665</td>\n",
       "      <td>subreddit_videos</td>\n",
       "    </tr>\n",
       "    <tr>\n",
       "      <th>62552</th>\n",
       "      <td>0.792100</td>\n",
       "      <td>subreddit_gaming</td>\n",
       "    </tr>\n",
       "    <tr>\n",
       "      <th>32830</th>\n",
       "      <td>0.776420</td>\n",
       "      <td>match thread</td>\n",
       "    </tr>\n",
       "    <tr>\n",
       "      <th>62548</th>\n",
       "      <td>0.772666</td>\n",
       "      <td>subreddit_europe</td>\n",
       "    </tr>\n",
       "    <tr>\n",
       "      <th>62534</th>\n",
       "      <td>0.772207</td>\n",
       "      <td>subreddit_TheSilphRoad</td>\n",
       "    </tr>\n",
       "    <tr>\n",
       "      <th>43067</th>\n",
       "      <td>0.771548</td>\n",
       "      <td>racist</td>\n",
       "    </tr>\n",
       "    <tr>\n",
       "      <th>62519</th>\n",
       "      <td>0.757198</td>\n",
       "      <td>subreddit_LivestreamFail</td>\n",
       "    </tr>\n",
       "    <tr>\n",
       "      <th>42142</th>\n",
       "      <td>0.752605</td>\n",
       "      <td>progress</td>\n",
       "    </tr>\n",
       "    <tr>\n",
       "      <th>21168</th>\n",
       "      <td>0.749200</td>\n",
       "      <td>general</td>\n",
       "    </tr>\n",
       "    <tr>\n",
       "      <th>20866</th>\n",
       "      <td>0.745439</td>\n",
       "      <td>games</td>\n",
       "    </tr>\n",
       "    <tr>\n",
       "      <th>24725</th>\n",
       "      <td>0.725715</td>\n",
       "      <td>hmmm</td>\n",
       "    </tr>\n",
       "    <tr>\n",
       "      <th>44113</th>\n",
       "      <td>0.719718</td>\n",
       "      <td>reddit</td>\n",
       "    </tr>\n",
       "    <tr>\n",
       "      <th>62572</th>\n",
       "      <td>0.714172</td>\n",
       "      <td>subreddit_pics</td>\n",
       "    </tr>\n",
       "    <tr>\n",
       "      <th>25569</th>\n",
       "      <td>0.702661</td>\n",
       "      <td>ice</td>\n",
       "    </tr>\n",
       "    <tr>\n",
       "      <th>6280</th>\n",
       "      <td>0.688839</td>\n",
       "      <td>braves</td>\n",
       "    </tr>\n",
       "    <tr>\n",
       "      <th>62564</th>\n",
       "      <td>0.680995</td>\n",
       "      <td>subreddit_mildlyinteresting</td>\n",
       "    </tr>\n",
       "    <tr>\n",
       "      <th>44734</th>\n",
       "      <td>0.670032</td>\n",
       "      <td>report</td>\n",
       "    </tr>\n",
       "    <tr>\n",
       "      <th>62529</th>\n",
       "      <td>0.634722</td>\n",
       "      <td>subreddit_Rainbow6</td>\n",
       "    </tr>\n",
       "    <tr>\n",
       "      <th>12357</th>\n",
       "      <td>0.631494</td>\n",
       "      <td>dark</td>\n",
       "    </tr>\n",
       "    <tr>\n",
       "      <th>21175</th>\n",
       "      <td>0.630049</td>\n",
       "      <td>general discussion</td>\n",
       "    </tr>\n",
       "    <tr>\n",
       "      <th>60273</th>\n",
       "      <td>0.624673</td>\n",
       "      <td>went</td>\n",
       "    </tr>\n",
       "    <tr>\n",
       "      <th>907</th>\n",
       "      <td>0.621592</td>\n",
       "      <td>agents</td>\n",
       "    </tr>\n",
       "    <tr>\n",
       "      <th>41703</th>\n",
       "      <td>0.620400</td>\n",
       "      <td>president</td>\n",
       "    </tr>\n",
       "    <tr>\n",
       "      <th>40809</th>\n",
       "      <td>0.619407</td>\n",
       "      <td>pm</td>\n",
       "    </tr>\n",
       "    <tr>\n",
       "      <th>62494</th>\n",
       "      <td>0.615237</td>\n",
       "      <td>title_length</td>\n",
       "    </tr>\n",
       "    <tr>\n",
       "      <th>62542</th>\n",
       "      <td>0.615183</td>\n",
       "      <td>subreddit_canada</td>\n",
       "    </tr>\n",
       "    <tr>\n",
       "      <th>62543</th>\n",
       "      <td>0.612892</td>\n",
       "      <td>subreddit_cars</td>\n",
       "    </tr>\n",
       "    <tr>\n",
       "      <th>41837</th>\n",
       "      <td>0.605610</td>\n",
       "      <td>prices</td>\n",
       "    </tr>\n",
       "    <tr>\n",
       "      <th>57486</th>\n",
       "      <td>0.599840</td>\n",
       "      <td>united</td>\n",
       "    </tr>\n",
       "    <tr>\n",
       "      <th>21176</th>\n",
       "      <td>0.595430</td>\n",
       "      <td>general discussion may</td>\n",
       "    </tr>\n",
       "    <tr>\n",
       "      <th>4373</th>\n",
       "      <td>0.587701</td>\n",
       "      <td>battle</td>\n",
       "    </tr>\n",
       "    <tr>\n",
       "      <th>25177</th>\n",
       "      <td>0.587263</td>\n",
       "      <td>house</td>\n",
       "    </tr>\n",
       "    <tr>\n",
       "      <th>46700</th>\n",
       "      <td>0.580761</td>\n",
       "      <td>saturday</td>\n",
       "    </tr>\n",
       "  </tbody>\n",
       "</table>\n",
       "</div>"
      ],
      "text/plain": [
       "          coefs                         name\n",
       "62551  2.040162              subreddit_funny\n",
       "62553  1.628590               subreddit_gifs\n",
       "62560  1.549417    subreddit_leagueoflegends\n",
       "62585  1.449988          subreddit_worldnews\n",
       "62530  1.288071     subreddit_Showerthoughts\n",
       "62579  1.218060      subreddit_todayilearned\n",
       "20789  1.132568                  game thread\n",
       "62568  1.124170               subreddit_news\n",
       "62558  1.092520        subreddit_hiphopheads\n",
       "3901   1.057203                          bad\n",
       "62499  1.011483          subreddit_AskReddit\n",
       "62508  0.934401     subreddit_DestinyTheGame\n",
       "62573  0.931198           subreddit_politics\n",
       "28199  0.924347                         kids\n",
       "49942  0.895902                         solo\n",
       "33351  0.861774                   megathread\n",
       "62521  0.860823                subreddit_MMA\n",
       "62584  0.817665             subreddit_videos\n",
       "62552  0.792100             subreddit_gaming\n",
       "32830  0.776420                 match thread\n",
       "62548  0.772666             subreddit_europe\n",
       "62534  0.772207       subreddit_TheSilphRoad\n",
       "43067  0.771548                       racist\n",
       "62519  0.757198     subreddit_LivestreamFail\n",
       "42142  0.752605                     progress\n",
       "21168  0.749200                      general\n",
       "20866  0.745439                        games\n",
       "24725  0.725715                         hmmm\n",
       "44113  0.719718                       reddit\n",
       "62572  0.714172               subreddit_pics\n",
       "25569  0.702661                          ice\n",
       "6280   0.688839                       braves\n",
       "62564  0.680995  subreddit_mildlyinteresting\n",
       "44734  0.670032                       report\n",
       "62529  0.634722           subreddit_Rainbow6\n",
       "12357  0.631494                         dark\n",
       "21175  0.630049           general discussion\n",
       "60273  0.624673                         went\n",
       "907    0.621592                       agents\n",
       "41703  0.620400                    president\n",
       "40809  0.619407                           pm\n",
       "62494  0.615237                 title_length\n",
       "62542  0.615183             subreddit_canada\n",
       "62543  0.612892               subreddit_cars\n",
       "41837  0.605610                       prices\n",
       "57486  0.599840                       united\n",
       "21176  0.595430       general discussion may\n",
       "4373   0.587701                       battle\n",
       "25177  0.587263                        house\n",
       "46700  0.580761                     saturday"
      ]
     },
     "execution_count": 47,
     "metadata": {},
     "output_type": "execute_result"
    }
   ],
   "source": [
    "explanation.sort_values(by='coefs', ascending=False)[:50]"
   ]
  },
  {
   "cell_type": "code",
   "execution_count": 48,
   "metadata": {},
   "outputs": [
    {
     "data": {
      "text/html": [
       "<div>\n",
       "<style scoped>\n",
       "    .dataframe tbody tr th:only-of-type {\n",
       "        vertical-align: middle;\n",
       "    }\n",
       "\n",
       "    .dataframe tbody tr th {\n",
       "        vertical-align: top;\n",
       "    }\n",
       "\n",
       "    .dataframe thead th {\n",
       "        text-align: right;\n",
       "    }\n",
       "</style>\n",
       "<table border=\"1\" class=\"dataframe\">\n",
       "  <thead>\n",
       "    <tr style=\"text-align: right;\">\n",
       "      <th></th>\n",
       "      <th>coefs</th>\n",
       "      <th>name</th>\n",
       "    </tr>\n",
       "  </thead>\n",
       "  <tbody>\n",
       "    <tr>\n",
       "      <th>62493</th>\n",
       "      <td>-0.035679</td>\n",
       "      <td>elapsed</td>\n",
       "    </tr>\n",
       "  </tbody>\n",
       "</table>\n",
       "</div>"
      ],
      "text/plain": [
       "          coefs     name\n",
       "62493 -0.035679  elapsed"
      ]
     },
     "execution_count": 48,
     "metadata": {},
     "output_type": "execute_result"
    }
   ],
   "source": [
    "explanation.loc[explanation['name']=='elapsed']"
   ]
  },
  {
   "cell_type": "code",
   "execution_count": 49,
   "metadata": {},
   "outputs": [
    {
     "data": {
      "text/html": [
       "<div>\n",
       "<style scoped>\n",
       "    .dataframe tbody tr th:only-of-type {\n",
       "        vertical-align: middle;\n",
       "    }\n",
       "\n",
       "    .dataframe tbody tr th {\n",
       "        vertical-align: top;\n",
       "    }\n",
       "\n",
       "    .dataframe thead th {\n",
       "        text-align: right;\n",
       "    }\n",
       "</style>\n",
       "<table border=\"1\" class=\"dataframe\">\n",
       "  <thead>\n",
       "    <tr style=\"text-align: right;\">\n",
       "      <th></th>\n",
       "      <th>coefs</th>\n",
       "      <th>name</th>\n",
       "    </tr>\n",
       "  </thead>\n",
       "  <tbody>\n",
       "    <tr>\n",
       "      <th>62494</th>\n",
       "      <td>0.615237</td>\n",
       "      <td>title_length</td>\n",
       "    </tr>\n",
       "  </tbody>\n",
       "</table>\n",
       "</div>"
      ],
      "text/plain": [
       "          coefs          name\n",
       "62494  0.615237  title_length"
      ]
     },
     "execution_count": 49,
     "metadata": {},
     "output_type": "execute_result"
    }
   ],
   "source": [
    "explanation.loc[explanation['name']=='title_length']"
   ]
  },
  {
   "cell_type": "code",
   "execution_count": 50,
   "metadata": {},
   "outputs": [
    {
     "data": {
      "text/html": [
       "<div>\n",
       "<style scoped>\n",
       "    .dataframe tbody tr th:only-of-type {\n",
       "        vertical-align: middle;\n",
       "    }\n",
       "\n",
       "    .dataframe tbody tr th {\n",
       "        vertical-align: top;\n",
       "    }\n",
       "\n",
       "    .dataframe thead th {\n",
       "        text-align: right;\n",
       "    }\n",
       "</style>\n",
       "<table border=\"1\" class=\"dataframe\">\n",
       "  <thead>\n",
       "    <tr style=\"text-align: right;\">\n",
       "      <th></th>\n",
       "      <th>coefs</th>\n",
       "      <th>name</th>\n",
       "    </tr>\n",
       "  </thead>\n",
       "  <tbody>\n",
       "    <tr>\n",
       "      <th>62495</th>\n",
       "      <td>-2.662597</td>\n",
       "      <td>feature_question</td>\n",
       "    </tr>\n",
       "  </tbody>\n",
       "</table>\n",
       "</div>"
      ],
      "text/plain": [
       "          coefs              name\n",
       "62495 -2.662597  feature_question"
      ]
     },
     "execution_count": 50,
     "metadata": {},
     "output_type": "execute_result"
    }
   ],
   "source": [
    "explanation.loc[explanation['name']=='feature_question']"
   ]
  },
  {
   "cell_type": "code",
   "execution_count": 51,
   "metadata": {},
   "outputs": [
    {
     "data": {
      "text/html": [
       "<div>\n",
       "<style scoped>\n",
       "    .dataframe tbody tr th:only-of-type {\n",
       "        vertical-align: middle;\n",
       "    }\n",
       "\n",
       "    .dataframe tbody tr th {\n",
       "        vertical-align: top;\n",
       "    }\n",
       "\n",
       "    .dataframe thead th {\n",
       "        text-align: right;\n",
       "    }\n",
       "</style>\n",
       "<table border=\"1\" class=\"dataframe\">\n",
       "  <thead>\n",
       "    <tr style=\"text-align: right;\">\n",
       "      <th></th>\n",
       "      <th>coefs</th>\n",
       "      <th>name</th>\n",
       "    </tr>\n",
       "  </thead>\n",
       "  <tbody>\n",
       "    <tr>\n",
       "      <th>62496</th>\n",
       "      <td>-0.354144</td>\n",
       "      <td>feature_exclaim</td>\n",
       "    </tr>\n",
       "  </tbody>\n",
       "</table>\n",
       "</div>"
      ],
      "text/plain": [
       "          coefs             name\n",
       "62496 -0.354144  feature_exclaim"
      ]
     },
     "execution_count": 51,
     "metadata": {},
     "output_type": "execute_result"
    }
   ],
   "source": [
    "explanation.loc[explanation['name']=='feature_exclaim']"
   ]
  },
  {
   "cell_type": "code",
   "execution_count": 52,
   "metadata": {},
   "outputs": [
    {
     "data": {
      "text/html": [
       "<div>\n",
       "<style scoped>\n",
       "    .dataframe tbody tr th:only-of-type {\n",
       "        vertical-align: middle;\n",
       "    }\n",
       "\n",
       "    .dataframe tbody tr th {\n",
       "        vertical-align: top;\n",
       "    }\n",
       "\n",
       "    .dataframe thead th {\n",
       "        text-align: right;\n",
       "    }\n",
       "</style>\n",
       "<table border=\"1\" class=\"dataframe\">\n",
       "  <thead>\n",
       "    <tr style=\"text-align: right;\">\n",
       "      <th></th>\n",
       "      <th>coefs</th>\n",
       "      <th>name</th>\n",
       "    </tr>\n",
       "  </thead>\n",
       "  <tbody>\n",
       "    <tr>\n",
       "      <th>2475</th>\n",
       "      <td>0.579818</td>\n",
       "      <td>app</td>\n",
       "    </tr>\n",
       "    <tr>\n",
       "      <th>535</th>\n",
       "      <td>0.575405</td>\n",
       "      <td>ad</td>\n",
       "    </tr>\n",
       "    <tr>\n",
       "      <th>50528</th>\n",
       "      <td>0.573398</td>\n",
       "      <td>speechless</td>\n",
       "    </tr>\n",
       "    <tr>\n",
       "      <th>28395</th>\n",
       "      <td>0.570784</td>\n",
       "      <td>kit</td>\n",
       "    </tr>\n",
       "    <tr>\n",
       "      <th>5046</th>\n",
       "      <td>0.569455</td>\n",
       "      <td>better</td>\n",
       "    </tr>\n",
       "    <tr>\n",
       "      <th>57569</th>\n",
       "      <td>0.568006</td>\n",
       "      <td>unpopular</td>\n",
       "    </tr>\n",
       "    <tr>\n",
       "      <th>7657</th>\n",
       "      <td>0.567012</td>\n",
       "      <td>care</td>\n",
       "    </tr>\n",
       "    <tr>\n",
       "      <th>43754</th>\n",
       "      <td>0.560626</td>\n",
       "      <td>really</td>\n",
       "    </tr>\n",
       "    <tr>\n",
       "      <th>6147</th>\n",
       "      <td>0.560254</td>\n",
       "      <td>box</td>\n",
       "    </tr>\n",
       "    <tr>\n",
       "      <th>57739</th>\n",
       "      <td>0.560174</td>\n",
       "      <td>upset</td>\n",
       "    </tr>\n",
       "    <tr>\n",
       "      <th>38007</th>\n",
       "      <td>0.556720</td>\n",
       "      <td>opinions</td>\n",
       "    </tr>\n",
       "    <tr>\n",
       "      <th>3026</th>\n",
       "      <td>0.554268</td>\n",
       "      <td>asked</td>\n",
       "    </tr>\n",
       "    <tr>\n",
       "      <th>8095</th>\n",
       "      <td>0.551977</td>\n",
       "      <td>center</td>\n",
       "    </tr>\n",
       "    <tr>\n",
       "      <th>236</th>\n",
       "      <td>0.549254</td>\n",
       "      <td>accurate</td>\n",
       "    </tr>\n",
       "    <tr>\n",
       "      <th>28906</th>\n",
       "      <td>0.546774</td>\n",
       "      <td>landing</td>\n",
       "    </tr>\n",
       "    <tr>\n",
       "      <th>14141</th>\n",
       "      <td>0.544893</td>\n",
       "      <td>discussion may</td>\n",
       "    </tr>\n",
       "    <tr>\n",
       "      <th>11996</th>\n",
       "      <td>0.542670</td>\n",
       "      <td>currently</td>\n",
       "    </tr>\n",
       "    <tr>\n",
       "      <th>16391</th>\n",
       "      <td>0.541841</td>\n",
       "      <td>episode discussion</td>\n",
       "    </tr>\n",
       "    <tr>\n",
       "      <th>25152</th>\n",
       "      <td>0.538634</td>\n",
       "      <td>hours</td>\n",
       "    </tr>\n",
       "    <tr>\n",
       "      <th>18327</th>\n",
       "      <td>0.538572</td>\n",
       "      <td>feedback</td>\n",
       "    </tr>\n",
       "    <tr>\n",
       "      <th>43324</th>\n",
       "      <td>0.538380</td>\n",
       "      <td>ranked</td>\n",
       "    </tr>\n",
       "    <tr>\n",
       "      <th>3739</th>\n",
       "      <td>0.536098</td>\n",
       "      <td>baby</td>\n",
       "    </tr>\n",
       "    <tr>\n",
       "      <th>16243</th>\n",
       "      <td>0.534797</td>\n",
       "      <td>enough</td>\n",
       "    </tr>\n",
       "    <tr>\n",
       "      <th>1620</th>\n",
       "      <td>0.533807</td>\n",
       "      <td>america</td>\n",
       "    </tr>\n",
       "    <tr>\n",
       "      <th>15224</th>\n",
       "      <td>0.533431</td>\n",
       "      <td>duty</td>\n",
       "    </tr>\n",
       "    <tr>\n",
       "      <th>42927</th>\n",
       "      <td>0.530642</td>\n",
       "      <td>questions</td>\n",
       "    </tr>\n",
       "    <tr>\n",
       "      <th>37339</th>\n",
       "      <td>0.530435</td>\n",
       "      <td>offering</td>\n",
       "    </tr>\n",
       "    <tr>\n",
       "      <th>34500</th>\n",
       "      <td>0.529488</td>\n",
       "      <td>moments</td>\n",
       "    </tr>\n",
       "    <tr>\n",
       "      <th>47448</th>\n",
       "      <td>0.525760</td>\n",
       "      <td>seattle</td>\n",
       "    </tr>\n",
       "    <tr>\n",
       "      <th>32814</th>\n",
       "      <td>0.522745</td>\n",
       "      <td>match</td>\n",
       "    </tr>\n",
       "    <tr>\n",
       "      <th>56950</th>\n",
       "      <td>0.519472</td>\n",
       "      <td>twitter</td>\n",
       "    </tr>\n",
       "    <tr>\n",
       "      <th>43003</th>\n",
       "      <td>0.518942</td>\n",
       "      <td>quit</td>\n",
       "    </tr>\n",
       "    <tr>\n",
       "      <th>61002</th>\n",
       "      <td>0.517499</td>\n",
       "      <td>women</td>\n",
       "    </tr>\n",
       "    <tr>\n",
       "      <th>25067</th>\n",
       "      <td>0.516584</td>\n",
       "      <td>horse</td>\n",
       "    </tr>\n",
       "    <tr>\n",
       "      <th>5476</th>\n",
       "      <td>0.511716</td>\n",
       "      <td>black ops</td>\n",
       "    </tr>\n",
       "    <tr>\n",
       "      <th>49294</th>\n",
       "      <td>0.507030</td>\n",
       "      <td>sister</td>\n",
       "    </tr>\n",
       "    <tr>\n",
       "      <th>33848</th>\n",
       "      <td>0.507005</td>\n",
       "      <td>might</td>\n",
       "    </tr>\n",
       "    <tr>\n",
       "      <th>14558</th>\n",
       "      <td>0.506506</td>\n",
       "      <td>donald</td>\n",
       "    </tr>\n",
       "    <tr>\n",
       "      <th>32087</th>\n",
       "      <td>0.498856</td>\n",
       "      <td>makes</td>\n",
       "    </tr>\n",
       "    <tr>\n",
       "      <th>62537</th>\n",
       "      <td>0.495313</td>\n",
       "      <td>subreddit_WTF</td>\n",
       "    </tr>\n",
       "    <tr>\n",
       "      <th>40640</th>\n",
       "      <td>0.495128</td>\n",
       "      <td>playing</td>\n",
       "    </tr>\n",
       "    <tr>\n",
       "      <th>32901</th>\n",
       "      <td>0.494732</td>\n",
       "      <td>matter</td>\n",
       "    </tr>\n",
       "    <tr>\n",
       "      <th>52764</th>\n",
       "      <td>0.493985</td>\n",
       "      <td>swear</td>\n",
       "    </tr>\n",
       "    <tr>\n",
       "      <th>52963</th>\n",
       "      <td>0.493141</td>\n",
       "      <td>tahini</td>\n",
       "    </tr>\n",
       "    <tr>\n",
       "      <th>42898</th>\n",
       "      <td>0.493095</td>\n",
       "      <td>question</td>\n",
       "    </tr>\n",
       "    <tr>\n",
       "      <th>10063</th>\n",
       "      <td>0.490998</td>\n",
       "      <td>commented</td>\n",
       "    </tr>\n",
       "    <tr>\n",
       "      <th>60493</th>\n",
       "      <td>0.489980</td>\n",
       "      <td>whole</td>\n",
       "    </tr>\n",
       "    <tr>\n",
       "      <th>11939</th>\n",
       "      <td>0.485220</td>\n",
       "      <td>cup</td>\n",
       "    </tr>\n",
       "    <tr>\n",
       "      <th>23299</th>\n",
       "      <td>0.483855</td>\n",
       "      <td>guys</td>\n",
       "    </tr>\n",
       "    <tr>\n",
       "      <th>41108</th>\n",
       "      <td>0.483478</td>\n",
       "      <td>pool</td>\n",
       "    </tr>\n",
       "  </tbody>\n",
       "</table>\n",
       "</div>"
      ],
      "text/plain": [
       "          coefs                name\n",
       "2475   0.579818                 app\n",
       "535    0.575405                  ad\n",
       "50528  0.573398          speechless\n",
       "28395  0.570784                 kit\n",
       "5046   0.569455              better\n",
       "57569  0.568006           unpopular\n",
       "7657   0.567012                care\n",
       "43754  0.560626              really\n",
       "6147   0.560254                 box\n",
       "57739  0.560174               upset\n",
       "38007  0.556720            opinions\n",
       "3026   0.554268               asked\n",
       "8095   0.551977              center\n",
       "236    0.549254            accurate\n",
       "28906  0.546774             landing\n",
       "14141  0.544893      discussion may\n",
       "11996  0.542670           currently\n",
       "16391  0.541841  episode discussion\n",
       "25152  0.538634               hours\n",
       "18327  0.538572            feedback\n",
       "43324  0.538380              ranked\n",
       "3739   0.536098                baby\n",
       "16243  0.534797              enough\n",
       "1620   0.533807             america\n",
       "15224  0.533431                duty\n",
       "42927  0.530642           questions\n",
       "37339  0.530435            offering\n",
       "34500  0.529488             moments\n",
       "47448  0.525760             seattle\n",
       "32814  0.522745               match\n",
       "56950  0.519472             twitter\n",
       "43003  0.518942                quit\n",
       "61002  0.517499               women\n",
       "25067  0.516584               horse\n",
       "5476   0.511716           black ops\n",
       "49294  0.507030              sister\n",
       "33848  0.507005               might\n",
       "14558  0.506506              donald\n",
       "32087  0.498856               makes\n",
       "62537  0.495313       subreddit_WTF\n",
       "40640  0.495128             playing\n",
       "32901  0.494732              matter\n",
       "52764  0.493985               swear\n",
       "52963  0.493141              tahini\n",
       "42898  0.493095            question\n",
       "10063  0.490998           commented\n",
       "60493  0.489980               whole\n",
       "11939  0.485220                 cup\n",
       "23299  0.483855                guys\n",
       "41108  0.483478                pool"
      ]
     },
     "execution_count": 52,
     "metadata": {},
     "output_type": "execute_result"
    }
   ],
   "source": [
    "explanation.sort_values(by='coefs', ascending=False)[50:100]"
   ]
  },
  {
   "cell_type": "markdown",
   "metadata": {},
   "source": [
    "### 3.D Using statsmodels to get p-values"
   ]
  },
  {
   "cell_type": "code",
   "execution_count": 53,
   "metadata": {},
   "outputs": [],
   "source": [
    "X_train['intercept']=1"
   ]
  },
  {
   "cell_type": "code",
   "execution_count": 54,
   "metadata": {},
   "outputs": [],
   "source": [
    "nonword_plus=nonword+['intercept']"
   ]
  },
  {
   "cell_type": "code",
   "execution_count": 55,
   "metadata": {},
   "outputs": [],
   "source": [
    "logit = sm.Logit(y_train, X_train[nonword_plus])"
   ]
  },
  {
   "cell_type": "code",
   "execution_count": 56,
   "metadata": {},
   "outputs": [
    {
     "name": "stdout",
     "output_type": "stream",
     "text": [
      "Optimization terminated successfully.\n",
      "         Current function value: 0.659829\n",
      "         Iterations 6\n"
     ]
    }
   ],
   "source": [
    "result=logit.fit()"
   ]
  },
  {
   "cell_type": "code",
   "execution_count": 57,
   "metadata": {},
   "outputs": [
    {
     "data": {
      "text/html": [
       "<table class=\"simpletable\">\n",
       "<tr>\n",
       "        <td>Model:</td>              <td>Logit</td>       <td>No. Iterations:</td>   <td>6.0000</td>  \n",
       "</tr>\n",
       "<tr>\n",
       "  <td>Dependent Variable:</td>         <td>y</td>        <td>Pseudo R-squared:</td>   <td>0.048</td>  \n",
       "</tr>\n",
       "<tr>\n",
       "         <td>Date:</td>        <td>2018-06-01 21:15</td>       <td>AIC:</td>        <td>6658.3211</td>\n",
       "</tr>\n",
       "<tr>\n",
       "   <td>No. Observations:</td>        <td>4900</td>             <td>BIC:</td>        <td>7282.0322</td>\n",
       "</tr>\n",
       "<tr>\n",
       "       <td>Df Model:</td>             <td>95</td>         <td>Log-Likelihood:</td>   <td>-3233.2</td> \n",
       "</tr>\n",
       "<tr>\n",
       "     <td>Df Residuals:</td>          <td>4804</td>           <td>LL-Null:</td>       <td>-3396.4</td> \n",
       "</tr>\n",
       "<tr>\n",
       "      <td>Converged:</td>           <td>1.0000</td>           <td>Scale:</td>        <td>1.0000</td>  \n",
       "</tr>\n",
       "</table>\n",
       "<table class=\"simpletable\">\n",
       "<tr>\n",
       "                 <td></td>                 <th>Coef.</th>  <th>Std.Err.</th>    <th>z</th>     <th>P>|z|</th> <th>[0.025</th>  <th>0.975]</th> \n",
       "</tr>\n",
       "<tr>\n",
       "  <th>elapsed</th>                        <td>0.0000</td>   <td>0.0000</td>  <td>0.0876</td>  <td>0.9302</td> <td>-0.0000</td> <td>0.0000</td> \n",
       "</tr>\n",
       "<tr>\n",
       "  <th>title_length</th>                   <td>0.0038</td>   <td>0.0036</td>  <td>1.0426</td>  <td>0.2971</td> <td>-0.0033</td> <td>0.0109</td> \n",
       "</tr>\n",
       "<tr>\n",
       "  <th>feature_question</th>               <td>-0.5643</td>  <td>0.0887</td>  <td>-6.3604</td> <td>0.0000</td> <td>-0.7382</td> <td>-0.3904</td>\n",
       "</tr>\n",
       "<tr>\n",
       "  <th>feature_exclaim</th>                <td>-0.0992</td>  <td>0.1176</td>  <td>-0.8436</td> <td>0.3989</td> <td>-0.3298</td> <td>0.1313</td> \n",
       "</tr>\n",
       "<tr>\n",
       "  <th>subreddit_Android</th>              <td>2.1961</td>   <td>0.9270</td>  <td>2.3689</td>  <td>0.0178</td> <td>0.3791</td>  <td>4.0130</td> \n",
       "</tr>\n",
       "<tr>\n",
       "  <th>subreddit_AskAnAmerican</th>        <td>2.0353</td>   <td>0.9366</td>  <td>2.1730</td>  <td>0.0298</td> <td>0.1995</td>  <td>3.8711</td> \n",
       "</tr>\n",
       "<tr>\n",
       "  <th>subreddit_AskReddit</th>            <td>2.5596</td>   <td>0.7888</td>  <td>3.2451</td>  <td>0.0012</td> <td>1.0136</td>  <td>4.1055</td> \n",
       "</tr>\n",
       "<tr>\n",
       "  <th>subreddit_BlackPeopleTwitter</th>   <td>0.9969</td>   <td>0.8867</td>  <td>1.1243</td>  <td>0.2609</td> <td>-0.7409</td> <td>2.7348</td> \n",
       "</tr>\n",
       "<tr>\n",
       "  <th>subreddit_Braincels</th>            <td>1.0431</td>   <td>0.9343</td>  <td>1.1165</td>  <td>0.2642</td> <td>-0.7880</td> <td>2.8743</td> \n",
       "</tr>\n",
       "<tr>\n",
       "  <th>subreddit_CFB</th>                  <td>1.7286</td>   <td>0.8476</td>  <td>2.0395</td>  <td>0.0414</td> <td>0.0674</td>  <td>3.3898</td> \n",
       "</tr>\n",
       "<tr>\n",
       "  <th>subreddit_ChapoTrapHouse</th>       <td>1.1961</td>   <td>0.9157</td>  <td>1.3063</td>  <td>0.1915</td> <td>-0.5986</td> <td>2.9909</td> \n",
       "</tr>\n",
       "<tr>\n",
       "  <th>subreddit_Christianity</th>         <td>1.7192</td>   <td>0.9757</td>  <td>1.7620</td>  <td>0.0781</td> <td>-0.1931</td> <td>3.6316</td> \n",
       "</tr>\n",
       "<tr>\n",
       "  <th>subreddit_Competitiveoverwatch</th> <td>2.2033</td>   <td>0.8882</td>  <td>2.4806</td>  <td>0.0131</td> <td>0.4624</td>  <td>3.9442</td> \n",
       "</tr>\n",
       "<tr>\n",
       "  <th>subreddit_CringeAnarchy</th>        <td>1.6324</td>   <td>0.8984</td>  <td>1.8170</td>  <td>0.0692</td> <td>-0.1285</td> <td>3.3933</td> \n",
       "</tr>\n",
       "<tr>\n",
       "  <th>subreddit_CryptoCurrency</th>       <td>1.7067</td>   <td>0.9446</td>  <td>1.8068</td>  <td>0.0708</td> <td>-0.1447</td> <td>3.5581</td> \n",
       "</tr>\n",
       "<tr>\n",
       "  <th>subreddit_DestinyTheGame</th>       <td>2.6747</td>   <td>0.8365</td>  <td>3.1976</td>  <td>0.0014</td> <td>1.0352</td>  <td>4.3141</td> \n",
       "</tr>\n",
       "<tr>\n",
       "  <th>subreddit_DotA2</th>                <td>1.2785</td>   <td>0.8817</td>  <td>1.4501</td>  <td>0.1470</td> <td>-0.4495</td> <td>3.0066</td> \n",
       "</tr>\n",
       "<tr>\n",
       "  <th>subreddit_Drama</th>                <td>1.9770</td>   <td>0.9742</td>  <td>2.0293</td>  <td>0.0424</td> <td>0.0676</td>  <td>3.8865</td> \n",
       "</tr>\n",
       "<tr>\n",
       "  <th>subreddit_FireEmblemHeroes</th>     <td>1.1312</td>   <td>0.9674</td>  <td>1.1692</td>  <td>0.2423</td> <td>-0.7650</td> <td>3.0273</td> \n",
       "</tr>\n",
       "<tr>\n",
       "  <th>subreddit_FortNiteBR</th>           <td>2.1540</td>   <td>0.8077</td>  <td>2.6667</td>  <td>0.0077</td> <td>0.5709</td>  <td>3.7371</td> \n",
       "</tr>\n",
       "<tr>\n",
       "  <th>subreddit_Games</th>                <td>1.9069</td>   <td>0.9208</td>  <td>2.0710</td>  <td>0.0384</td> <td>0.1022</td>  <td>3.7116</td> \n",
       "</tr>\n",
       "<tr>\n",
       "  <th>subreddit_GlobalOffensive</th>      <td>1.7352</td>   <td>0.8608</td>  <td>2.0157</td>  <td>0.0438</td> <td>0.0480</td>  <td>3.4224</td> \n",
       "</tr>\n",
       "<tr>\n",
       "  <th>subreddit_Gunners</th>              <td>1.5943</td>   <td>0.9434</td>  <td>1.6899</td>  <td>0.0910</td> <td>-0.2547</td> <td>3.4434</td> \n",
       "</tr>\n",
       "<tr>\n",
       "  <th>subreddit_JUSTNOMIL</th>            <td>2.3041</td>   <td>0.9279</td>  <td>2.4831</td>  <td>0.0130</td> <td>0.4854</td>  <td>4.1228</td> \n",
       "</tr>\n",
       "<tr>\n",
       "  <th>subreddit_JordanPeterson</th>       <td>1.1577</td>   <td>0.9784</td>  <td>1.1832</td>  <td>0.2367</td> <td>-0.7600</td> <td>3.0754</td> \n",
       "</tr>\n",
       "<tr>\n",
       "  <th>subreddit_KotakuInAction</th>       <td>2.3102</td>   <td>0.9866</td>  <td>2.3417</td>  <td>0.0192</td> <td>0.3766</td>  <td>4.2438</td> \n",
       "</tr>\n",
       "<tr>\n",
       "  <th>subreddit_LivestreamFail</th>       <td>2.8400</td>   <td>0.9234</td>  <td>3.0756</td>  <td>0.0021</td> <td>1.0302</td>  <td>4.6499</td> \n",
       "</tr>\n",
       "<tr>\n",
       "  <th>subreddit_MLS</th>                  <td>2.5911</td>   <td>0.9703</td>  <td>2.6704</td>  <td>0.0076</td> <td>0.6893</td>  <td>4.4928</td> \n",
       "</tr>\n",
       "<tr>\n",
       "  <th>subreddit_MMA</th>                  <td>2.7027</td>   <td>0.8692</td>  <td>3.1092</td>  <td>0.0019</td> <td>0.9990</td>  <td>4.4064</td> \n",
       "</tr>\n",
       "<tr>\n",
       "  <th>subreddit_MobiusFF</th>             <td>1.0962</td>   <td>0.9776</td>  <td>1.1213</td>  <td>0.2622</td> <td>-0.8199</td> <td>3.0122</td> \n",
       "</tr>\n",
       "<tr>\n",
       "  <th>subreddit_NintendoSwitch</th>       <td>2.2977</td>   <td>0.8893</td>  <td>2.5838</td>  <td>0.0098</td> <td>0.5548</td>  <td>4.0407</td> \n",
       "</tr>\n",
       "<tr>\n",
       "  <th>subreddit_Overwatch</th>            <td>1.8693</td>   <td>0.8740</td>  <td>2.1387</td>  <td>0.0325</td> <td>0.1562</td>  <td>3.5823</td> \n",
       "</tr>\n",
       "<tr>\n",
       "  <th>subreddit_PS4</th>                  <td>2.5485</td>   <td>0.9395</td>  <td>2.7127</td>  <td>0.0067</td> <td>0.7072</td>  <td>4.3899</td> \n",
       "</tr>\n",
       "<tr>\n",
       "  <th>subreddit_PrequelMemes</th>         <td>1.1691</td>   <td>0.9394</td>  <td>1.2445</td>  <td>0.2133</td> <td>-0.6721</td> <td>3.0102</td> \n",
       "</tr>\n",
       "<tr>\n",
       "  <th>subreddit_PublicFreakout</th>       <td>2.1612</td>   <td>0.9619</td>  <td>2.2468</td>  <td>0.0247</td> <td>0.2759</td>  <td>4.0466</td> \n",
       "</tr>\n",
       "<tr>\n",
       "  <th>subreddit_PurplePillDebate</th>     <td>2.2284</td>   <td>0.9245</td>  <td>2.4105</td>  <td>0.0159</td> <td>0.4165</td>  <td>4.0404</td> \n",
       "</tr>\n",
       "<tr>\n",
       "  <th>subreddit_Rainbow6</th>             <td>2.6986</td>   <td>0.9298</td>  <td>2.9024</td>  <td>0.0037</td> <td>0.8763</td>  <td>4.5210</td> \n",
       "</tr>\n",
       "<tr>\n",
       "  <th>subreddit_Showerthoughts</th>       <td>3.4711</td>   <td>0.9864</td>  <td>3.5188</td>  <td>0.0004</td> <td>1.5377</td>  <td>5.4045</td> \n",
       "</tr>\n",
       "<tr>\n",
       "  <th>subreddit_SquaredCircle</th>        <td>1.8613</td>   <td>0.8207</td>  <td>2.2680</td>  <td>0.0233</td> <td>0.2528</td>  <td>3.4699</td> \n",
       "</tr>\n",
       "<tr>\n",
       "  <th>subreddit_StarWarsBattlefront</th>  <td>0.4250</td>   <td>1.0940</td>  <td>0.3885</td>  <td>0.6977</td> <td>-1.7193</td> <td>2.5693</td> \n",
       "</tr>\n",
       "<tr>\n",
       "  <th>subreddit_TeenMomOGandTeenMom2</th> <td>1.0426</td>   <td>0.9058</td>  <td>1.1510</td>  <td>0.2497</td> <td>-0.7327</td> <td>2.8179</td> \n",
       "</tr>\n",
       "<tr>\n",
       "  <th>subreddit_TheSilphRoad</th>         <td>3.0025</td>   <td>1.0141</td>  <td>2.9607</td>  <td>0.0031</td> <td>1.0149</td>  <td>4.9902</td> \n",
       "</tr>\n",
       "<tr>\n",
       "  <th>subreddit_The_Donald</th>           <td>2.1923</td>   <td>0.7963</td>  <td>2.7531</td>  <td>0.0059</td> <td>0.6316</td>  <td>3.7530</td> \n",
       "</tr>\n",
       "<tr>\n",
       "  <th>subreddit_TwoBestFriendsPlay</th>   <td>1.5777</td>   <td>0.9630</td>  <td>1.6382</td>  <td>0.1014</td> <td>-0.3099</td> <td>3.4652</td> \n",
       "</tr>\n",
       "<tr>\n",
       "  <th>subreddit_WTF</th>                  <td>2.5859</td>   <td>0.9400</td>  <td>2.7509</td>  <td>0.0059</td> <td>0.7435</td>  <td>4.4284</td> \n",
       "</tr>\n",
       "<tr>\n",
       "  <th>subreddit_Warframe</th>             <td>1.7897</td>   <td>0.8834</td>  <td>2.0260</td>  <td>0.0428</td> <td>0.0583</td>  <td>3.5211</td> \n",
       "</tr>\n",
       "<tr>\n",
       "  <th>subreddit_anime</th>                <td>1.8806</td>   <td>0.9126</td>  <td>2.0607</td>  <td>0.0393</td> <td>0.0919</td>  <td>3.6692</td> \n",
       "</tr>\n",
       "<tr>\n",
       "  <th>subreddit_aww</th>                  <td>2.3656</td>   <td>0.8684</td>  <td>2.7241</td>  <td>0.0064</td> <td>0.6636</td>  <td>4.0676</td> \n",
       "</tr>\n",
       "<tr>\n",
       "  <th>subreddit_baseball</th>             <td>1.7886</td>   <td>0.8451</td>  <td>2.1166</td>  <td>0.0343</td> <td>0.1323</td>  <td>3.4449</td> \n",
       "</tr>\n",
       "<tr>\n",
       "  <th>subreddit_canada</th>               <td>2.4666</td>   <td>0.8668</td>  <td>2.8456</td>  <td>0.0044</td> <td>0.7677</td>  <td>4.1655</td> \n",
       "</tr>\n",
       "<tr>\n",
       "  <th>subreddit_cars</th>                 <td>2.6601</td>   <td>0.8969</td>  <td>2.9659</td>  <td>0.0030</td> <td>0.9022</td>  <td>4.4181</td> \n",
       "</tr>\n",
       "<tr>\n",
       "  <th>subreddit_changemyview</th>         <td>2.3295</td>   <td>0.9444</td>  <td>2.4668</td>  <td>0.0136</td> <td>0.4786</td>  <td>4.1805</td> \n",
       "</tr>\n",
       "<tr>\n",
       "  <th>subreddit_conspiracy</th>           <td>1.9187</td>   <td>0.8700</td>  <td>2.2055</td>  <td>0.0274</td> <td>0.2136</td>  <td>3.6239</td> \n",
       "</tr>\n",
       "<tr>\n",
       "  <th>subreddit_dankmemes</th>            <td>1.8425</td>   <td>0.9120</td>  <td>2.0202</td>  <td>0.0434</td> <td>0.0549</td>  <td>3.6300</td> \n",
       "</tr>\n",
       "<tr>\n",
       "  <th>subreddit_de</th>                   <td>2.4308</td>   <td>0.9291</td>  <td>2.6161</td>  <td>0.0089</td> <td>0.6097</td>  <td>4.2518</td> \n",
       "</tr>\n",
       "<tr>\n",
       "  <th>subreddit_europe</th>               <td>2.6948</td>   <td>0.9019</td>  <td>2.9880</td>  <td>0.0028</td> <td>0.9271</td>  <td>4.4624</td> \n",
       "</tr>\n",
       "<tr>\n",
       "  <th>subreddit_fatlogic</th>             <td>1.2867</td>   <td>0.9879</td>  <td>1.3025</td>  <td>0.1927</td> <td>-0.6495</td> <td>3.2229</td> \n",
       "</tr>\n",
       "<tr>\n",
       "  <th>subreddit_formula1</th>             <td>0.1017</td>   <td>1.0827</td>  <td>0.0939</td>  <td>0.9252</td> <td>-2.0204</td> <td>2.2238</td> \n",
       "</tr>\n",
       "<tr>\n",
       "  <th>subreddit_funny</th>                <td>3.2675</td>   <td>0.8274</td>  <td>3.9491</td>  <td>0.0001</td> <td>1.6459</td>  <td>4.8892</td> \n",
       "</tr>\n",
       "<tr>\n",
       "  <th>subreddit_gaming</th>               <td>2.5175</td>   <td>0.8387</td>  <td>3.0017</td>  <td>0.0027</td> <td>0.8737</td>  <td>4.1612</td> \n",
       "</tr>\n",
       "<tr>\n",
       "  <th>subreddit_gifs</th>                 <td>3.7816</td>   <td>0.9794</td>  <td>3.8611</td>  <td>0.0001</td> <td>1.8620</td>  <td>5.7012</td> \n",
       "</tr>\n",
       "<tr>\n",
       "  <th>subreddit_grandorder</th>           <td>0.6527</td>   <td>1.0079</td>  <td>0.6476</td>  <td>0.5172</td> <td>-1.3227</td> <td>2.6282</td> \n",
       "</tr>\n",
       "<tr>\n",
       "  <th>subreddit_greatawakening</th>       <td>2.2161</td>   <td>0.8721</td>  <td>2.5411</td>  <td>0.0111</td> <td>0.5068</td>  <td>3.9255</td> \n",
       "</tr>\n",
       "<tr>\n",
       "  <th>subreddit_hearthstone</th>          <td>1.5268</td>   <td>0.9344</td>  <td>1.6340</td>  <td>0.1022</td> <td>-0.3045</td> <td>3.3582</td> \n",
       "</tr>\n",
       "<tr>\n",
       "  <th>subreddit_heroesofthestorm</th>     <td>1.8438</td>   <td>0.9121</td>  <td>2.0214</td>  <td>0.0432</td> <td>0.0561</td>  <td>3.6316</td> \n",
       "</tr>\n",
       "<tr>\n",
       "  <th>subreddit_hiphopheads</th>          <td>3.1065</td>   <td>0.9127</td>  <td>3.4036</td>  <td>0.0007</td> <td>1.3176</td>  <td>4.8954</td> \n",
       "</tr>\n",
       "<tr>\n",
       "  <th>subreddit_hockey</th>               <td>1.9633</td>   <td>0.8388</td>  <td>2.3406</td>  <td>0.0193</td> <td>0.3192</td>  <td>3.6073</td> \n",
       "</tr>\n",
       "<tr>\n",
       "  <th>subreddit_leagueoflegends</th>      <td>3.2217</td>   <td>0.8504</td>  <td>3.7887</td>  <td>0.0002</td> <td>1.5550</td>  <td>4.8883</td> \n",
       "</tr>\n",
       "<tr>\n",
       "  <th>subreddit_magicTCG</th>             <td>1.5687</td>   <td>0.9631</td>  <td>1.6287</td>  <td>0.1034</td> <td>-0.3190</td> <td>3.4563</td> \n",
       "</tr>\n",
       "<tr>\n",
       "  <th>subreddit_marvelstudios</th>        <td>1.8911</td>   <td>0.8543</td>  <td>2.2138</td>  <td>0.0268</td> <td>0.2168</td>  <td>3.5655</td> \n",
       "</tr>\n",
       "<tr>\n",
       "  <th>subreddit_me_irl</th>               <td>1.2444</td>   <td>0.9870</td>  <td>1.2608</td>  <td>0.2074</td> <td>-0.6901</td> <td>3.1790</td> \n",
       "</tr>\n",
       "<tr>\n",
       "  <th>subreddit_mildlyinteresting</th>    <td>2.4597</td>   <td>0.8546</td>  <td>2.8782</td>  <td>0.0040</td> <td>0.7847</td>  <td>4.1347</td> \n",
       "</tr>\n",
       "<tr>\n",
       "  <th>subreddit_milliondollarextreme</th> <td>1.4897</td>   <td>0.9082</td>  <td>1.6403</td>  <td>0.1009</td> <td>-0.2903</td> <td>3.2697</td> \n",
       "</tr>\n",
       "<tr>\n",
       "  <th>subreddit_movies</th>               <td>2.0776</td>   <td>0.8437</td>  <td>2.4626</td>  <td>0.0138</td> <td>0.4240</td>  <td>3.7311</td> \n",
       "</tr>\n",
       "<tr>\n",
       "  <th>subreddit_nba</th>                  <td>2.0109</td>   <td>0.7905</td>  <td>2.5437</td>  <td>0.0110</td> <td>0.4615</td>  <td>3.5604</td> \n",
       "</tr>\n",
       "<tr>\n",
       "  <th>subreddit_news</th>                 <td>2.6533</td>   <td>0.8175</td>  <td>3.2456</td>  <td>0.0012</td> <td>1.0510</td>  <td>4.2555</td> \n",
       "</tr>\n",
       "<tr>\n",
       "  <th>subreddit_nfl</th>                  <td>1.9645</td>   <td>0.7997</td>  <td>2.4564</td>  <td>0.0140</td> <td>0.3971</td>  <td>3.5319</td> \n",
       "</tr>\n",
       "<tr>\n",
       "  <th>subreddit_other</th>                <td>1.6016</td>   <td>0.7625</td>  <td>2.1003</td>  <td>0.0357</td> <td>0.1070</td>  <td>3.0961</td> \n",
       "</tr>\n",
       "<tr>\n",
       "  <th>subreddit_pathofexile</th>          <td>1.3645</td>   <td>0.9888</td>  <td>1.3800</td>  <td>0.1676</td> <td>-0.5734</td> <td>3.3025</td> \n",
       "</tr>\n",
       "<tr>\n",
       "  <th>subreddit_pics</th>                 <td>2.5344</td>   <td>0.8533</td>  <td>2.9701</td>  <td>0.0030</td> <td>0.8620</td>  <td>4.2069</td> \n",
       "</tr>\n",
       "<tr>\n",
       "  <th>subreddit_politics</th>             <td>2.2781</td>   <td>0.7786</td>  <td>2.9259</td>  <td>0.0034</td> <td>0.7521</td>  <td>3.8041</td> \n",
       "</tr>\n",
       "<tr>\n",
       "  <th>subreddit_relationships</th>        <td>2.0174</td>   <td>0.8279</td>  <td>2.4366</td>  <td>0.0148</td> <td>0.3947</td>  <td>3.6401</td> \n",
       "</tr>\n",
       "<tr>\n",
       "  <th>subreddit_rupaulsdragrace</th>      <td>1.7235</td>   <td>0.9043</td>  <td>1.9058</td>  <td>0.0567</td> <td>-0.0490</td> <td>3.4960</td> \n",
       "</tr>\n",
       "<tr>\n",
       "  <th>subreddit_soccer</th>               <td>2.0661</td>   <td>0.7977</td>  <td>2.5900</td>  <td>0.0096</td> <td>0.5026</td>  <td>3.6296</td> \n",
       "</tr>\n",
       "<tr>\n",
       "  <th>subreddit_starterpacks</th>         <td>1.7813</td>   <td>0.9560</td>  <td>1.8634</td>  <td>0.0624</td> <td>-0.0924</td> <td>3.6549</td> \n",
       "</tr>\n",
       "<tr>\n",
       "  <th>subreddit_television</th>           <td>1.8670</td>   <td>0.8659</td>  <td>2.1562</td>  <td>0.0311</td> <td>0.1699</td>  <td>3.5641</td> \n",
       "</tr>\n",
       "<tr>\n",
       "  <th>subreddit_todayilearned</th>        <td>3.1665</td>   <td>0.9119</td>  <td>3.4722</td>  <td>0.0005</td> <td>1.3791</td>  <td>4.9538</td> \n",
       "</tr>\n",
       "<tr>\n",
       "  <th>subreddit_trashy</th>               <td>1.6418</td>   <td>0.9742</td>  <td>1.6854</td>  <td>0.0919</td> <td>-0.2675</td> <td>3.5511</td> \n",
       "</tr>\n",
       "<tr>\n",
       "  <th>subreddit_ukpolitics</th>           <td>2.2854</td>   <td>0.9539</td>  <td>2.3959</td>  <td>0.0166</td> <td>0.4158</td>  <td>4.1551</td> \n",
       "</tr>\n",
       "<tr>\n",
       "  <th>subreddit_unpopularopinion</th>     <td>1.6353</td>   <td>0.9741</td>  <td>1.6787</td>  <td>0.0932</td> <td>-0.2740</td> <td>3.5446</td> \n",
       "</tr>\n",
       "<tr>\n",
       "  <th>subreddit_vancouver</th>            <td>1.5313</td>   <td>0.9627</td>  <td>1.5907</td>  <td>0.1117</td> <td>-0.3555</td> <td>3.4181</td> \n",
       "</tr>\n",
       "<tr>\n",
       "  <th>subreddit_videos</th>               <td>2.7126</td>   <td>0.8823</td>  <td>3.0743</td>  <td>0.0021</td> <td>0.9832</td>  <td>4.4419</td> \n",
       "</tr>\n",
       "<tr>\n",
       "  <th>subreddit_worldnews</th>            <td>3.0528</td>   <td>0.8495</td>  <td>3.5934</td>  <td>0.0003</td> <td>1.3877</td>  <td>4.7178</td> \n",
       "</tr>\n",
       "<tr>\n",
       "  <th>subreddit_wow</th>                  <td>2.1307</td>   <td>0.8467</td>  <td>2.5165</td>  <td>0.0119</td> <td>0.4712</td>  <td>3.7902</td> \n",
       "</tr>\n",
       "<tr>\n",
       "  <th>subreddit_xboxone</th>              <td>1.5053</td>   <td>0.9133</td>  <td>1.6481</td>  <td>0.0993</td> <td>-0.2849</td> <td>3.2954</td> \n",
       "</tr>\n",
       "<tr>\n",
       "  <th>intercept</th>                      <td>-1.8127</td>  <td>0.7638</td>  <td>-2.3731</td> <td>0.0176</td> <td>-3.3098</td> <td>-0.3156</td>\n",
       "</tr>\n",
       "</table>"
      ],
      "text/plain": [
       "<class 'statsmodels.iolib.summary2.Summary'>\n",
       "\"\"\"\n",
       "                                Results: Logit\n",
       "==============================================================================\n",
       "Model:                    Logit                No. Iterations:       6.0000   \n",
       "Dependent Variable:       y                    Pseudo R-squared:     0.048    \n",
       "Date:                     2018-06-01 21:15     AIC:                  6658.3211\n",
       "No. Observations:         4900                 BIC:                  7282.0322\n",
       "Df Model:                 95                   Log-Likelihood:       -3233.2  \n",
       "Df Residuals:             4804                 LL-Null:              -3396.4  \n",
       "Converged:                1.0000               Scale:                1.0000   \n",
       "------------------------------------------------------------------------------\n",
       "                                Coef.  Std.Err.    z    P>|z|   [0.025  0.975]\n",
       "------------------------------------------------------------------------------\n",
       "elapsed                         0.0000   0.0000  0.0876 0.9302 -0.0000  0.0000\n",
       "title_length                    0.0038   0.0036  1.0426 0.2971 -0.0033  0.0109\n",
       "feature_question               -0.5643   0.0887 -6.3604 0.0000 -0.7382 -0.3904\n",
       "feature_exclaim                -0.0992   0.1176 -0.8436 0.3989 -0.3298  0.1313\n",
       "subreddit_Android               2.1961   0.9270  2.3689 0.0178  0.3791  4.0130\n",
       "subreddit_AskAnAmerican         2.0353   0.9366  2.1730 0.0298  0.1995  3.8711\n",
       "subreddit_AskReddit             2.5596   0.7888  3.2451 0.0012  1.0136  4.1055\n",
       "subreddit_BlackPeopleTwitter    0.9969   0.8867  1.1243 0.2609 -0.7409  2.7348\n",
       "subreddit_Braincels             1.0431   0.9343  1.1165 0.2642 -0.7880  2.8743\n",
       "subreddit_CFB                   1.7286   0.8476  2.0395 0.0414  0.0674  3.3898\n",
       "subreddit_ChapoTrapHouse        1.1961   0.9157  1.3063 0.1915 -0.5986  2.9909\n",
       "subreddit_Christianity          1.7192   0.9757  1.7620 0.0781 -0.1931  3.6316\n",
       "subreddit_Competitiveoverwatch  2.2033   0.8882  2.4806 0.0131  0.4624  3.9442\n",
       "subreddit_CringeAnarchy         1.6324   0.8984  1.8170 0.0692 -0.1285  3.3933\n",
       "subreddit_CryptoCurrency        1.7067   0.9446  1.8068 0.0708 -0.1447  3.5581\n",
       "subreddit_DestinyTheGame        2.6747   0.8365  3.1976 0.0014  1.0352  4.3141\n",
       "subreddit_DotA2                 1.2785   0.8817  1.4501 0.1470 -0.4495  3.0066\n",
       "subreddit_Drama                 1.9770   0.9742  2.0293 0.0424  0.0676  3.8865\n",
       "subreddit_FireEmblemHeroes      1.1312   0.9674  1.1692 0.2423 -0.7650  3.0273\n",
       "subreddit_FortNiteBR            2.1540   0.8077  2.6667 0.0077  0.5709  3.7371\n",
       "subreddit_Games                 1.9069   0.9208  2.0710 0.0384  0.1022  3.7116\n",
       "subreddit_GlobalOffensive       1.7352   0.8608  2.0157 0.0438  0.0480  3.4224\n",
       "subreddit_Gunners               1.5943   0.9434  1.6899 0.0910 -0.2547  3.4434\n",
       "subreddit_JUSTNOMIL             2.3041   0.9279  2.4831 0.0130  0.4854  4.1228\n",
       "subreddit_JordanPeterson        1.1577   0.9784  1.1832 0.2367 -0.7600  3.0754\n",
       "subreddit_KotakuInAction        2.3102   0.9866  2.3417 0.0192  0.3766  4.2438\n",
       "subreddit_LivestreamFail        2.8400   0.9234  3.0756 0.0021  1.0302  4.6499\n",
       "subreddit_MLS                   2.5911   0.9703  2.6704 0.0076  0.6893  4.4928\n",
       "subreddit_MMA                   2.7027   0.8692  3.1092 0.0019  0.9990  4.4064\n",
       "subreddit_MobiusFF              1.0962   0.9776  1.1213 0.2622 -0.8199  3.0122\n",
       "subreddit_NintendoSwitch        2.2977   0.8893  2.5838 0.0098  0.5548  4.0407\n",
       "subreddit_Overwatch             1.8693   0.8740  2.1387 0.0325  0.1562  3.5823\n",
       "subreddit_PS4                   2.5485   0.9395  2.7127 0.0067  0.7072  4.3899\n",
       "subreddit_PrequelMemes          1.1691   0.9394  1.2445 0.2133 -0.6721  3.0102\n",
       "subreddit_PublicFreakout        2.1612   0.9619  2.2468 0.0247  0.2759  4.0466\n",
       "subreddit_PurplePillDebate      2.2284   0.9245  2.4105 0.0159  0.4165  4.0404\n",
       "subreddit_Rainbow6              2.6986   0.9298  2.9024 0.0037  0.8763  4.5210\n",
       "subreddit_Showerthoughts        3.4711   0.9864  3.5188 0.0004  1.5377  5.4045\n",
       "subreddit_SquaredCircle         1.8613   0.8207  2.2680 0.0233  0.2528  3.4699\n",
       "subreddit_StarWarsBattlefront   0.4250   1.0940  0.3885 0.6977 -1.7193  2.5693\n",
       "subreddit_TeenMomOGandTeenMom2  1.0426   0.9058  1.1510 0.2497 -0.7327  2.8179\n",
       "subreddit_TheSilphRoad          3.0025   1.0141  2.9607 0.0031  1.0149  4.9902\n",
       "subreddit_The_Donald            2.1923   0.7963  2.7531 0.0059  0.6316  3.7530\n",
       "subreddit_TwoBestFriendsPlay    1.5777   0.9630  1.6382 0.1014 -0.3099  3.4652\n",
       "subreddit_WTF                   2.5859   0.9400  2.7509 0.0059  0.7435  4.4284\n",
       "subreddit_Warframe              1.7897   0.8834  2.0260 0.0428  0.0583  3.5211\n",
       "subreddit_anime                 1.8806   0.9126  2.0607 0.0393  0.0919  3.6692\n",
       "subreddit_aww                   2.3656   0.8684  2.7241 0.0064  0.6636  4.0676\n",
       "subreddit_baseball              1.7886   0.8451  2.1166 0.0343  0.1323  3.4449\n",
       "subreddit_canada                2.4666   0.8668  2.8456 0.0044  0.7677  4.1655\n",
       "subreddit_cars                  2.6601   0.8969  2.9659 0.0030  0.9022  4.4181\n",
       "subreddit_changemyview          2.3295   0.9444  2.4668 0.0136  0.4786  4.1805\n",
       "subreddit_conspiracy            1.9187   0.8700  2.2055 0.0274  0.2136  3.6239\n",
       "subreddit_dankmemes             1.8425   0.9120  2.0202 0.0434  0.0549  3.6300\n",
       "subreddit_de                    2.4308   0.9291  2.6161 0.0089  0.6097  4.2518\n",
       "subreddit_europe                2.6948   0.9019  2.9880 0.0028  0.9271  4.4624\n",
       "subreddit_fatlogic              1.2867   0.9879  1.3025 0.1927 -0.6495  3.2229\n",
       "subreddit_formula1              0.1017   1.0827  0.0939 0.9252 -2.0204  2.2238\n",
       "subreddit_funny                 3.2675   0.8274  3.9491 0.0001  1.6459  4.8892\n",
       "subreddit_gaming                2.5175   0.8387  3.0017 0.0027  0.8737  4.1612\n",
       "subreddit_gifs                  3.7816   0.9794  3.8611 0.0001  1.8620  5.7012\n",
       "subreddit_grandorder            0.6527   1.0079  0.6476 0.5172 -1.3227  2.6282\n",
       "subreddit_greatawakening        2.2161   0.8721  2.5411 0.0111  0.5068  3.9255\n",
       "subreddit_hearthstone           1.5268   0.9344  1.6340 0.1022 -0.3045  3.3582\n",
       "subreddit_heroesofthestorm      1.8438   0.9121  2.0214 0.0432  0.0561  3.6316\n",
       "subreddit_hiphopheads           3.1065   0.9127  3.4036 0.0007  1.3176  4.8954\n",
       "subreddit_hockey                1.9633   0.8388  2.3406 0.0193  0.3192  3.6073\n",
       "subreddit_leagueoflegends       3.2217   0.8504  3.7887 0.0002  1.5550  4.8883\n",
       "subreddit_magicTCG              1.5687   0.9631  1.6287 0.1034 -0.3190  3.4563\n",
       "subreddit_marvelstudios         1.8911   0.8543  2.2138 0.0268  0.2168  3.5655\n",
       "subreddit_me_irl                1.2444   0.9870  1.2608 0.2074 -0.6901  3.1790\n",
       "subreddit_mildlyinteresting     2.4597   0.8546  2.8782 0.0040  0.7847  4.1347\n",
       "subreddit_milliondollarextreme  1.4897   0.9082  1.6403 0.1009 -0.2903  3.2697\n",
       "subreddit_movies                2.0776   0.8437  2.4626 0.0138  0.4240  3.7311\n",
       "subreddit_nba                   2.0109   0.7905  2.5437 0.0110  0.4615  3.5604\n",
       "subreddit_news                  2.6533   0.8175  3.2456 0.0012  1.0510  4.2555\n",
       "subreddit_nfl                   1.9645   0.7997  2.4564 0.0140  0.3971  3.5319\n",
       "subreddit_other                 1.6016   0.7625  2.1003 0.0357  0.1070  3.0961\n",
       "subreddit_pathofexile           1.3645   0.9888  1.3800 0.1676 -0.5734  3.3025\n",
       "subreddit_pics                  2.5344   0.8533  2.9701 0.0030  0.8620  4.2069\n",
       "subreddit_politics              2.2781   0.7786  2.9259 0.0034  0.7521  3.8041\n",
       "subreddit_relationships         2.0174   0.8279  2.4366 0.0148  0.3947  3.6401\n",
       "subreddit_rupaulsdragrace       1.7235   0.9043  1.9058 0.0567 -0.0490  3.4960\n",
       "subreddit_soccer                2.0661   0.7977  2.5900 0.0096  0.5026  3.6296\n",
       "subreddit_starterpacks          1.7813   0.9560  1.8634 0.0624 -0.0924  3.6549\n",
       "subreddit_television            1.8670   0.8659  2.1562 0.0311  0.1699  3.5641\n",
       "subreddit_todayilearned         3.1665   0.9119  3.4722 0.0005  1.3791  4.9538\n",
       "subreddit_trashy                1.6418   0.9742  1.6854 0.0919 -0.2675  3.5511\n",
       "subreddit_ukpolitics            2.2854   0.9539  2.3959 0.0166  0.4158  4.1551\n",
       "subreddit_unpopularopinion      1.6353   0.9741  1.6787 0.0932 -0.2740  3.5446\n",
       "subreddit_vancouver             1.5313   0.9627  1.5907 0.1117 -0.3555  3.4181\n",
       "subreddit_videos                2.7126   0.8823  3.0743 0.0021  0.9832  4.4419\n",
       "subreddit_worldnews             3.0528   0.8495  3.5934 0.0003  1.3877  4.7178\n",
       "subreddit_wow                   2.1307   0.8467  2.5165 0.0119  0.4712  3.7902\n",
       "subreddit_xboxone               1.5053   0.9133  1.6481 0.0993 -0.2849  3.2954\n",
       "intercept                      -1.8127   0.7638 -2.3731 0.0176 -3.3098 -0.3156\n",
       "==============================================================================\n",
       "\n",
       "\"\"\""
      ]
     },
     "execution_count": 57,
     "metadata": {},
     "output_type": "execute_result"
    }
   ],
   "source": [
    "result.summary2()"
   ]
  },
  {
   "cell_type": "markdown",
   "metadata": {},
   "source": [
    "# 4. Trying out the naive Bayes model"
   ]
  },
  {
   "cell_type": "code",
   "execution_count": 58,
   "metadata": {},
   "outputs": [],
   "source": [
    "nonword_pipeline_2 = Pipeline([\n",
    "    ('selector', Selector(key=nonword)),\n",
    "])"
   ]
  },
  {
   "cell_type": "code",
   "execution_count": 59,
   "metadata": {},
   "outputs": [],
   "source": [
    "word_pipeline_2 = Pipeline([\n",
    "    ('selector', Selector(key='title')),\n",
    "    ('vect', CountVectorizer()),\n",
    "    ('tfidf', TfidfTransformer())\n",
    "])\n"
   ]
  },
  {
   "cell_type": "code",
   "execution_count": 60,
   "metadata": {},
   "outputs": [],
   "source": [
    "merge_2 = FeatureUnion([\n",
    "    ('word', word_pipeline_2),\n",
    "    ('nonword', nonword_pipeline_2)\n",
    "])\n"
   ]
  },
  {
   "cell_type": "code",
   "execution_count": 61,
   "metadata": {},
   "outputs": [],
   "source": [
    "main_pipeline_2 = Pipeline([\n",
    "    ('merger',merge_2),\n",
    "    ('bayes', MultinomialNB()),\n",
    "])"
   ]
  },
  {
   "cell_type": "markdown",
   "metadata": {},
   "source": [
    "hyperparameters={\n",
    "                 'merger__transformer_weights': [{'word': 0.50, 'nonword': 0.50},\n",
    "                                                 {'word': 0.25, 'nonword': 0.75},\n",
    "                                                 {'word': 0.75, 'nonword': 0.25}],\n",
    "                 'merger__word__tfidf__use_idf': [False],\n",
    "                 'merger__word__vect__max_df': [0.005, 0.01, 0.02],\n",
    "                 'merger__word__vect__max_features': [500, 1000, 1500, 2000],\n",
    "                 'merger__word__vect__ngram_range': [(1,1), (1, 2), (1,3), (1,4), (1, 5)]}\n",
    "\n",
    "grid = GridSearchCV(main_pipeline_2, hyperparameters, cv=5)"
   ]
  },
  {
   "cell_type": "code",
   "execution_count": 62,
   "metadata": {},
   "outputs": [],
   "source": [
    "hyperparameters={\n",
    "                'merger__transformer_weights': [{'word': 0.05, 'nonword': 0.95},\n",
    "                                                 {'word': 0.15, 'nonword': 0.85},\n",
    "                                                 {'word': 0.25, 'nonword': 0.75}], \n",
    "                'merger__word__tfidf__use_idf': [False],\n",
    "                 'merger__word__vect__max_df': [0.01],\n",
    "                 'merger__word__vect__max_features': [1000],\n",
    "                 'merger__word__vect__ngram_range': [(1,3)]\n",
    "                }\n",
    "\n",
    "grid = GridSearchCV(main_pipeline_2, hyperparameters, cv=5)"
   ]
  },
  {
   "cell_type": "code",
   "execution_count": 63,
   "metadata": {},
   "outputs": [],
   "source": [
    "_=grid.fit(X_train, y_train)\n"
   ]
  },
  {
   "cell_type": "code",
   "execution_count": 64,
   "metadata": {},
   "outputs": [
    {
     "data": {
      "text/plain": [
       "{'merger__transformer_weights': {'word': 0.25, 'nonword': 0.75},\n",
       " 'merger__word__tfidf__use_idf': False,\n",
       " 'merger__word__vect__max_df': 0.01,\n",
       " 'merger__word__vect__max_features': 1000,\n",
       " 'merger__word__vect__ngram_range': (1, 3)}"
      ]
     },
     "execution_count": 64,
     "metadata": {},
     "output_type": "execute_result"
    }
   ],
   "source": [
    "grid.best_params_"
   ]
  },
  {
   "cell_type": "code",
   "execution_count": 65,
   "metadata": {},
   "outputs": [
    {
     "data": {
      "text/plain": [
       "0.5661904761904762"
      ]
     },
     "execution_count": 65,
     "metadata": {},
     "output_type": "execute_result"
    }
   ],
   "source": [
    "grid.score(X_test, y_test)"
   ]
  },
  {
   "cell_type": "code",
   "execution_count": 66,
   "metadata": {},
   "outputs": [],
   "source": [
    "# f1 score is not better than Logistic Regression"
   ]
  },
  {
   "cell_type": "code",
   "execution_count": 67,
   "metadata": {},
   "outputs": [
    {
     "data": {
      "text/plain": [
       "0.5296850800206504"
      ]
     },
     "execution_count": 67,
     "metadata": {},
     "output_type": "execute_result"
    }
   ],
   "source": [
    "f1_score(y_test, grid.predict(X_test))"
   ]
  },
  {
   "cell_type": "markdown",
   "metadata": {},
   "source": [
    "## 5. Trying out a Random Forest Classifier"
   ]
  },
  {
   "cell_type": "code",
   "execution_count": 68,
   "metadata": {},
   "outputs": [],
   "source": [
    "nonword_pipeline_3 = Pipeline([\n",
    "    ('selector', Selector(key=nonword)),\n",
    "])"
   ]
  },
  {
   "cell_type": "code",
   "execution_count": 69,
   "metadata": {},
   "outputs": [],
   "source": [
    "word_pipeline_3 = Pipeline([\n",
    "    ('selector', Selector(key='title')),\n",
    "    ('vect', CountVectorizer()),\n",
    "    ('tfidf', TfidfTransformer())\n",
    "])\n"
   ]
  },
  {
   "cell_type": "code",
   "execution_count": 70,
   "metadata": {},
   "outputs": [],
   "source": [
    "merge_3 = FeatureUnion([\n",
    "    ('word', word_pipeline_3),\n",
    "    ('nonword', nonword_pipeline_3)\n",
    "])\n"
   ]
  },
  {
   "cell_type": "code",
   "execution_count": 71,
   "metadata": {},
   "outputs": [],
   "source": [
    "main_pipeline_3 = Pipeline([\n",
    "    ('merger',merge_3),\n",
    "    ('forest', RandomForestClassifier()),\n",
    "])"
   ]
  },
  {
   "cell_type": "code",
   "execution_count": 72,
   "metadata": {},
   "outputs": [
    {
     "data": {
      "text/plain": [
       "['memory',\n",
       " 'steps',\n",
       " 'merger',\n",
       " 'forest',\n",
       " 'merger__n_jobs',\n",
       " 'merger__transformer_list',\n",
       " 'merger__transformer_weights',\n",
       " 'merger__word',\n",
       " 'merger__nonword',\n",
       " 'merger__word__memory',\n",
       " 'merger__word__steps',\n",
       " 'merger__word__selector',\n",
       " 'merger__word__vect',\n",
       " 'merger__word__tfidf',\n",
       " 'merger__word__selector__key',\n",
       " 'merger__word__vect__analyzer',\n",
       " 'merger__word__vect__binary',\n",
       " 'merger__word__vect__decode_error',\n",
       " 'merger__word__vect__dtype',\n",
       " 'merger__word__vect__encoding',\n",
       " 'merger__word__vect__input',\n",
       " 'merger__word__vect__lowercase',\n",
       " 'merger__word__vect__max_df',\n",
       " 'merger__word__vect__max_features',\n",
       " 'merger__word__vect__min_df',\n",
       " 'merger__word__vect__ngram_range',\n",
       " 'merger__word__vect__preprocessor',\n",
       " 'merger__word__vect__stop_words',\n",
       " 'merger__word__vect__strip_accents',\n",
       " 'merger__word__vect__token_pattern',\n",
       " 'merger__word__vect__tokenizer',\n",
       " 'merger__word__vect__vocabulary',\n",
       " 'merger__word__tfidf__norm',\n",
       " 'merger__word__tfidf__smooth_idf',\n",
       " 'merger__word__tfidf__sublinear_tf',\n",
       " 'merger__word__tfidf__use_idf',\n",
       " 'merger__nonword__memory',\n",
       " 'merger__nonword__steps',\n",
       " 'merger__nonword__selector',\n",
       " 'merger__nonword__selector__key',\n",
       " 'forest__bootstrap',\n",
       " 'forest__class_weight',\n",
       " 'forest__criterion',\n",
       " 'forest__max_depth',\n",
       " 'forest__max_features',\n",
       " 'forest__max_leaf_nodes',\n",
       " 'forest__min_impurity_decrease',\n",
       " 'forest__min_impurity_split',\n",
       " 'forest__min_samples_leaf',\n",
       " 'forest__min_samples_split',\n",
       " 'forest__min_weight_fraction_leaf',\n",
       " 'forest__n_estimators',\n",
       " 'forest__n_jobs',\n",
       " 'forest__oob_score',\n",
       " 'forest__random_state',\n",
       " 'forest__verbose',\n",
       " 'forest__warm_start']"
      ]
     },
     "execution_count": 72,
     "metadata": {},
     "output_type": "execute_result"
    }
   ],
   "source": [
    "list(main_pipeline_3.get_params().keys())"
   ]
  },
  {
   "cell_type": "code",
   "execution_count": 73,
   "metadata": {},
   "outputs": [],
   "source": [
    "hyperparameters={\n",
    "                'merger__transformer_weights': [\n",
    "                                                 {'word': 0.25, 'nonword': 0.75}], \n",
    "                'merger__word__tfidf__use_idf': [False],\n",
    "                 'merger__word__vect__max_df': [.03],\n",
    "                 'merger__word__vect__ngram_range': [(1,3)],\n",
    "                'forest__min_samples_split': [2, 10, 20],\n",
    "                'forest__min_impurity_decrease':[0],\n",
    "                'forest__max_depth':[10, 50, 200]\n",
    "                }\n",
    "\n",
    "grid = GridSearchCV(main_pipeline_3, hyperparameters, cv=5)"
   ]
  },
  {
   "cell_type": "code",
   "execution_count": 74,
   "metadata": {},
   "outputs": [],
   "source": [
    "_=grid.fit(X_train, y_train)"
   ]
  },
  {
   "cell_type": "code",
   "execution_count": 75,
   "metadata": {},
   "outputs": [
    {
     "data": {
      "text/plain": [
       "{'forest__max_depth': 200,\n",
       " 'forest__min_impurity_decrease': 0,\n",
       " 'forest__min_samples_split': 20,\n",
       " 'merger__transformer_weights': {'word': 0.25, 'nonword': 0.75},\n",
       " 'merger__word__tfidf__use_idf': False,\n",
       " 'merger__word__vect__max_df': 0.03,\n",
       " 'merger__word__vect__ngram_range': (1, 3)}"
      ]
     },
     "execution_count": 75,
     "metadata": {},
     "output_type": "execute_result"
    }
   ],
   "source": [
    "grid.best_params_"
   ]
  },
  {
   "cell_type": "code",
   "execution_count": 76,
   "metadata": {},
   "outputs": [
    {
     "data": {
      "text/plain": [
       "0.5642857142857143"
      ]
     },
     "execution_count": 76,
     "metadata": {},
     "output_type": "execute_result"
    }
   ],
   "source": [
    "grid.score(X_test, y_test)"
   ]
  },
  {
   "cell_type": "code",
   "execution_count": 77,
   "metadata": {},
   "outputs": [
    {
     "data": {
      "text/plain": [
       "0.8673469387755102"
      ]
     },
     "execution_count": 77,
     "metadata": {},
     "output_type": "execute_result"
    }
   ],
   "source": [
    "grid.score(X_train, y_train)"
   ]
  },
  {
   "cell_type": "code",
   "execution_count": 78,
   "metadata": {},
   "outputs": [
    {
     "data": {
      "text/plain": [
       "0.542271135567784"
      ]
     },
     "execution_count": 78,
     "metadata": {},
     "output_type": "execute_result"
    }
   ],
   "source": [
    "f1_score(y_test, grid.predict(X_test))"
   ]
  },
  {
   "cell_type": "markdown",
   "metadata": {},
   "source": [
    "## Random Forest has equivalent strength to Logistic Regression, which had an f1 score of .54"
   ]
  },
  {
   "cell_type": "code",
   "execution_count": null,
   "metadata": {},
   "outputs": [],
   "source": []
  },
  {
   "cell_type": "code",
   "execution_count": null,
   "metadata": {},
   "outputs": [],
   "source": []
  }
 ],
 "metadata": {
  "kernelspec": {
   "display_name": "Python 3",
   "language": "python",
   "name": "python3"
  },
  "language_info": {
   "codemirror_mode": {
    "name": "ipython",
    "version": 3
   },
   "file_extension": ".py",
   "mimetype": "text/x-python",
   "name": "python",
   "nbconvert_exporter": "python",
   "pygments_lexer": "ipython3",
   "version": "3.6.5"
  }
 },
 "nbformat": 4,
 "nbformat_minor": 2
}
