{
 "cells": [
  {
   "cell_type": "code",
   "execution_count": 2,
   "metadata": {},
   "outputs": [],
   "source": [
    "import numpy as np\n",
    "np.random.seed(523)\n",
    "import pandas as pd\n",
    "import matplotlib.pyplot as plt\n",
    "%matplotlib inline\n",
    "\n",
    "from sklearn.model_selection import train_test_split, GridSearchCV\n",
    "from sklearn.feature_extraction.text import CountVectorizer, TfidfTransformer, TfidfVectorizer\n",
    "from sklearn.linear_model import LogisticRegression\n",
    "from sklearn.pipeline import Pipeline, FeatureUnion\n",
    "from sklearn.preprocessing import StandardScaler\n",
    "from sklearn.metrics import confusion_matrix, f1_score\n",
    "from sklearn.naive_bayes import MultinomialNB\n",
    "from sklearn.metrics import roc_auc_score"
   ]
  },
  {
   "cell_type": "code",
   "execution_count": 19,
   "metadata": {},
   "outputs": [],
   "source": [
    "def plot_roc (model, X, y):\n",
    "    \n",
    "    # model=lasso1\n",
    "    # X = X_test_scaled\n",
    "    # y = y_test\n",
    "\n",
    "    # probabilities of ckd\n",
    "    ckd_probs=model.predict_proba(X)[:,1]\n",
    "\n",
    "    oneminusspec_list=[]\n",
    "    sensitivity_list=[]\n",
    "\n",
    "    threshes=np.linspace(0,1, 100)\n",
    "    for thresh in threshes:\n",
    "     \n",
    "        # initialize the confusion matrix tally for this particular threshold\n",
    "        TP=0\n",
    "        FP=0\n",
    "        FN=0\n",
    "        TN=0\n",
    "    \n",
    "        # For every threshold, compute the confusion matrix values\n",
    "        for obs_num in range(len(y)):\n",
    "            if ckd_probs[obs_num]>=thresh:\n",
    "                predict_sick=True\n",
    "            else:\n",
    "                predict_sick=False\n",
    "\n",
    "            if y[obs_num]==1:\n",
    "                sick=True\n",
    "            else:\n",
    "                sick=False\n",
    "\n",
    "            if predict_sick and sick:\n",
    "                TP += 1\n",
    "            elif predict_sick and not sick:\n",
    "                FP += 1\n",
    "            elif not predict_sick and sick:\n",
    "                FN += 1\n",
    "            else:\n",
    "                TN += 1\n",
    "\n",
    "        # For every threshold, compute and record the oneminusspec\n",
    "        # value and the sensitivity value\n",
    "        sensitivity = TP / (TP + FN)\n",
    "        specificity = TN / (TN + FP)\n",
    "        oneminusspec = 1 - specificity\n",
    "\n",
    "        oneminusspec_list.append(oneminusspec)\n",
    "        sensitivity_list.append(sensitivity)\n",
    "\n",
    "\n",
    "    oneminusspec_list=list(reversed(oneminusspec_list))\n",
    "    sensitivity_list=list(reversed(sensitivity_list))\n",
    "\n",
    "    oneminusspec_list\n",
    "    sensitivity_list\n",
    "\n",
    "    figure, ax = plt.subplots(figsize=(7,7))\n",
    "    plt.plot(oneminusspec_list, sensitivity_list)\n",
    "    x=np.linspace(0,1, num=50)\n",
    "    y=x\n",
    "    plt.plot(x,y, 'r')\n",
    "    plt.plot()\n",
    "    ax.set_xlabel(\"False positive rate\", fontsize=20)\n",
    "    ax.set_ylabel(\"Sensitivity\", fontsize=20)"
   ]
  },
  {
   "cell_type": "markdown",
   "metadata": {},
   "source": [
    "# Predicting whether a message is from an evolution or creationism discussion group"
   ]
  },
  {
   "cell_type": "markdown",
   "metadata": {},
   "source": [
    "## 1. TrainTestSplit "
   ]
  },
  {
   "cell_type": "code",
   "execution_count": 3,
   "metadata": {},
   "outputs": [],
   "source": [
    "df=pd.read_pickle('./evol_pickle')"
   ]
  },
  {
   "cell_type": "code",
   "execution_count": 4,
   "metadata": {},
   "outputs": [],
   "source": [
    "X=df['body']\n",
    "y =df['class']\n",
    "\n",
    "# Evolution is Class 0\n",
    "# Creationism is Class 1"
   ]
  },
  {
   "cell_type": "code",
   "execution_count": 5,
   "metadata": {},
   "outputs": [],
   "source": [
    "X_train, X_test, y_train, y_test = train_test_split(X, \n",
    "                                                    y, \n",
    "                                                    test_size=.3,\n",
    "                                                   random_state=42)"
   ]
  },
  {
   "cell_type": "code",
   "execution_count": 6,
   "metadata": {},
   "outputs": [
    {
     "data": {
      "text/plain": [
       "(6224,)"
      ]
     },
     "execution_count": 6,
     "metadata": {},
     "output_type": "execute_result"
    }
   ],
   "source": [
    "y_train.shape"
   ]
  },
  {
   "cell_type": "markdown",
   "metadata": {},
   "source": [
    "## 2. Naive Bayes Model"
   ]
  },
  {
   "cell_type": "code",
   "execution_count": 7,
   "metadata": {},
   "outputs": [
    {
     "data": {
      "text/plain": [
       "0.5965616966580977"
      ]
     },
     "execution_count": 7,
     "metadata": {},
     "output_type": "execute_result"
    }
   ],
   "source": [
    "# This is the baseline accuracy score\n",
    "\n",
    "baseline=y_train.value_counts().max()/y_train.shape[0]\n",
    "baseline"
   ]
  },
  {
   "cell_type": "code",
   "execution_count": 8,
   "metadata": {},
   "outputs": [
    {
     "data": {
      "text/plain": [
       "0    3713\n",
       "1    2511\n",
       "Name: class, dtype: int64"
      ]
     },
     "execution_count": 8,
     "metadata": {},
     "output_type": "execute_result"
    }
   ],
   "source": [
    "y_train.value_counts()"
   ]
  },
  {
   "cell_type": "code",
   "execution_count": 9,
   "metadata": {},
   "outputs": [],
   "source": [
    "pipeline = Pipeline([\n",
    "    \n",
    "    ('vect', CountVectorizer()),\n",
    "    ('tfidf', TfidfTransformer()),\n",
    "    ('bayes', MultinomialNB())\n",
    "])\n"
   ]
  },
  {
   "cell_type": "code",
   "execution_count": 10,
   "metadata": {},
   "outputs": [],
   "source": [
    "hyperparameters={ \n",
    "                'tfidf__use_idf': [True],\n",
    "                 'vect__max_df': [0.005],\n",
    "                 'vect__ngram_range': [(1,1)]\n",
    "                }\n",
    "\n",
    "grid = GridSearchCV(pipeline, hyperparameters, cv=3)"
   ]
  },
  {
   "cell_type": "code",
   "execution_count": 11,
   "metadata": {},
   "outputs": [],
   "source": [
    "_=grid.fit(X_train, y_train)"
   ]
  },
  {
   "cell_type": "code",
   "execution_count": 12,
   "metadata": {},
   "outputs": [
    {
     "data": {
      "text/plain": [
       "{'tfidf__use_idf': True, 'vect__max_df': 0.005, 'vect__ngram_range': (1, 1)}"
      ]
     },
     "execution_count": 12,
     "metadata": {},
     "output_type": "execute_result"
    }
   ],
   "source": [
    "grid.best_params_"
   ]
  },
  {
   "cell_type": "code",
   "execution_count": 13,
   "metadata": {},
   "outputs": [
    {
     "data": {
      "text/plain": [
       "0.8713046272493573"
      ]
     },
     "execution_count": 13,
     "metadata": {},
     "output_type": "execute_result"
    }
   ],
   "source": [
    "grid.score(X_train, y_train)"
   ]
  },
  {
   "cell_type": "code",
   "execution_count": 14,
   "metadata": {},
   "outputs": [
    {
     "data": {
      "text/plain": [
       "0.6990254872563718"
      ]
     },
     "execution_count": 14,
     "metadata": {},
     "output_type": "execute_result"
    }
   ],
   "source": [
    "grid.score(X_test, y_test)"
   ]
  },
  {
   "cell_type": "code",
   "execution_count": 15,
   "metadata": {},
   "outputs": [],
   "source": [
    "tn, fp, fn, tp = confusion_matrix(y_test, grid.predict(X_test)).ravel()"
   ]
  },
  {
   "cell_type": "code",
   "execution_count": 16,
   "metadata": {},
   "outputs": [
    {
     "data": {
      "text/plain": [
       "0.9529485570890841"
      ]
     },
     "execution_count": 16,
     "metadata": {},
     "output_type": "execute_result"
    }
   ],
   "source": [
    "# Specificity\n",
    "\n",
    "tn/(fp+tn)"
   ]
  },
  {
   "cell_type": "code",
   "execution_count": 17,
   "metadata": {},
   "outputs": [
    {
     "data": {
      "text/plain": [
       "0.3221601489757914"
      ]
     },
     "execution_count": 17,
     "metadata": {},
     "output_type": "execute_result"
    }
   ],
   "source": [
    "# Sensitivity\n",
    "\n",
    "tp/(fn+tp)"
   ]
  },
  {
   "cell_type": "code",
   "execution_count": 20,
   "metadata": {},
   "outputs": [
    {
     "data": {
      "image/png": "[encoded data removed]",
      "text/plain": [
       "<Figure size 504x504 with 1 Axes>"
      ]
     },
     "metadata": {},
     "output_type": "display_data"
    }
   ],
   "source": [
    "plot_roc(grid, X_test, y_test.ravel())\n"
   ]
  },
  {
   "cell_type": "code",
   "execution_count": 22,
   "metadata": {},
   "outputs": [
    {
     "data": {
      "text/plain": [
       "0.462876254180602"
      ]
     },
     "execution_count": 22,
     "metadata": {},
     "output_type": "execute_result"
    }
   ],
   "source": [
    "f1_score(y_test, grid.predict(X_test))"
   ]
  },
  {
   "cell_type": "code",
   "execution_count": 23,
   "metadata": {},
   "outputs": [],
   "source": [
    "vectorizer=CountVectorizer(max_df=0.005, ngram_range=(1, 1))"
   ]
  },
  {
   "cell_type": "code",
   "execution_count": 24,
   "metadata": {},
   "outputs": [],
   "source": [
    "transformer=TfidfTransformer()"
   ]
  },
  {
   "cell_type": "code",
   "execution_count": 25,
   "metadata": {},
   "outputs": [],
   "source": [
    "bayes=MultinomialNB()"
   ]
  },
  {
   "cell_type": "code",
   "execution_count": 26,
   "metadata": {},
   "outputs": [],
   "source": [
    "one=vectorizer.fit_transform(X_train)"
   ]
  },
  {
   "cell_type": "code",
   "execution_count": 27,
   "metadata": {},
   "outputs": [],
   "source": [
    "two=transformer.fit_transform(one)"
   ]
  },
  {
   "cell_type": "code",
   "execution_count": 28,
   "metadata": {},
   "outputs": [
    {
     "data": {
      "text/plain": [
       "MultinomialNB(alpha=1.0, class_prior=None, fit_prior=True)"
      ]
     },
     "execution_count": 28,
     "metadata": {},
     "output_type": "execute_result"
    }
   ],
   "source": [
    "bayes.fit(two, y_train)"
   ]
  },
  {
   "cell_type": "code",
   "execution_count": 29,
   "metadata": {},
   "outputs": [],
   "source": [
    "coefs=(pd.DataFrame(bayes.feature_log_prob_).T)\n",
    "coefs=coefs.rename(columns={0:'evolution log-odds', 1:'creation log-odds'})\n",
    "coefs['vocabulary']=vectorizer.get_feature_names()"
   ]
  },
  {
   "cell_type": "code",
   "execution_count": 30,
   "metadata": {},
   "outputs": [],
   "source": [
    "coefs['diff']=coefs['evolution log-odds']-coefs['creation log-odds']"
   ]
  },
  {
   "cell_type": "code",
   "execution_count": 31,
   "metadata": {},
   "outputs": [],
   "source": [
    "coefs['abs diff']=coefs['diff'].abs()"
   ]
  },
  {
   "cell_type": "code",
   "execution_count": 32,
   "metadata": {},
   "outputs": [],
   "source": [
    "def label(x):\n",
    "    if x>0:\n",
    "        return \"distinctively pro-evolution\"\n",
    "    else:\n",
    "        return \"distinctively pro-creationism\""
   ]
  },
  {
   "cell_type": "code",
   "execution_count": 33,
   "metadata": {},
   "outputs": [],
   "source": [
    "coefs['label']=coefs['diff'].map(label)"
   ]
  },
  {
   "cell_type": "code",
   "execution_count": 34,
   "metadata": {},
   "outputs": [
    {
     "data": {
      "text/html": [
       "<div>\n",
       "<style scoped>\n",
       "    .dataframe tbody tr th:only-of-type {\n",
       "        vertical-align: middle;\n",
       "    }\n",
       "\n",
       "    .dataframe tbody tr th {\n",
       "        vertical-align: top;\n",
       "    }\n",
       "\n",
       "    .dataframe thead th {\n",
       "        text-align: right;\n",
       "    }\n",
       "</style>\n",
       "<table border=\"1\" class=\"dataframe\">\n",
       "  <thead>\n",
       "    <tr style=\"text-align: right;\">\n",
       "      <th></th>\n",
       "      <th>vocabulary</th>\n",
       "      <th>label</th>\n",
       "    </tr>\n",
       "  </thead>\n",
       "  <tbody>\n",
       "    <tr>\n",
       "      <th>1993</th>\n",
       "      <td>biogenesis</td>\n",
       "      <td>distinctively pro-evolution</td>\n",
       "    </tr>\n",
       "    <tr>\n",
       "      <th>16878</th>\n",
       "      <td>ribosomes</td>\n",
       "      <td>distinctively pro-evolution</td>\n",
       "    </tr>\n",
       "    <tr>\n",
       "      <th>17464</th>\n",
       "      <td>scripture</td>\n",
       "      <td>distinctively pro-creationism</td>\n",
       "    </tr>\n",
       "    <tr>\n",
       "      <th>6732</th>\n",
       "      <td>epistemology</td>\n",
       "      <td>distinctively pro-evolution</td>\n",
       "    </tr>\n",
       "    <tr>\n",
       "      <th>45</th>\n",
       "      <td>abiotic</td>\n",
       "      <td>distinctively pro-evolution</td>\n",
       "    </tr>\n",
       "    <tr>\n",
       "      <th>13688</th>\n",
       "      <td>omniscient</td>\n",
       "      <td>distinctively pro-creationism</td>\n",
       "    </tr>\n",
       "    <tr>\n",
       "      <th>13593</th>\n",
       "      <td>oec</td>\n",
       "      <td>distinctively pro-creationism</td>\n",
       "    </tr>\n",
       "    <tr>\n",
       "      <th>10807</th>\n",
       "      <td>johnberea</td>\n",
       "      <td>distinctively pro-evolution</td>\n",
       "    </tr>\n",
       "    <tr>\n",
       "      <th>12672</th>\n",
       "      <td>morning</td>\n",
       "      <td>distinctively pro-creationism</td>\n",
       "    </tr>\n",
       "    <tr>\n",
       "      <th>16967</th>\n",
       "      <td>rnas</td>\n",
       "      <td>distinctively pro-evolution</td>\n",
       "    </tr>\n",
       "    <tr>\n",
       "      <th>21220</th>\n",
       "      <td>virgin</td>\n",
       "      <td>distinctively pro-evolution</td>\n",
       "    </tr>\n",
       "    <tr>\n",
       "      <th>9697</th>\n",
       "      <td>idiot</td>\n",
       "      <td>distinctively pro-evolution</td>\n",
       "    </tr>\n",
       "    <tr>\n",
       "      <th>2553</th>\n",
       "      <td>butter</td>\n",
       "      <td>distinctively pro-creationism</td>\n",
       "    </tr>\n",
       "    <tr>\n",
       "      <th>19924</th>\n",
       "      <td>toe</td>\n",
       "      <td>distinctively pro-evolution</td>\n",
       "    </tr>\n",
       "    <tr>\n",
       "      <th>8097</th>\n",
       "      <td>fudge</td>\n",
       "      <td>distinctively pro-creationism</td>\n",
       "    </tr>\n",
       "    <tr>\n",
       "      <th>1235</th>\n",
       "      <td>ass</td>\n",
       "      <td>distinctively pro-evolution</td>\n",
       "    </tr>\n",
       "    <tr>\n",
       "      <th>14105</th>\n",
       "      <td>pakicetus</td>\n",
       "      <td>distinctively pro-creationism</td>\n",
       "    </tr>\n",
       "    <tr>\n",
       "      <th>9791</th>\n",
       "      <td>immaterial</td>\n",
       "      <td>distinctively pro-evolution</td>\n",
       "    </tr>\n",
       "    <tr>\n",
       "      <th>14604</th>\n",
       "      <td>philosophers</td>\n",
       "      <td>distinctively pro-evolution</td>\n",
       "    </tr>\n",
       "    <tr>\n",
       "      <th>20792</th>\n",
       "      <td>unreasonably</td>\n",
       "      <td>distinctively pro-evolution</td>\n",
       "    </tr>\n",
       "    <tr>\n",
       "      <th>12796</th>\n",
       "      <td>muh</td>\n",
       "      <td>distinctively pro-evolution</td>\n",
       "    </tr>\n",
       "    <tr>\n",
       "      <th>16875</th>\n",
       "      <td>ribosomal</td>\n",
       "      <td>distinctively pro-evolution</td>\n",
       "    </tr>\n",
       "    <tr>\n",
       "      <th>12143</th>\n",
       "      <td>mendel</td>\n",
       "      <td>distinctively pro-evolution</td>\n",
       "    </tr>\n",
       "    <tr>\n",
       "      <th>6882</th>\n",
       "      <td>eugenics</td>\n",
       "      <td>distinctively pro-creationism</td>\n",
       "    </tr>\n",
       "    <tr>\n",
       "      <th>11950</th>\n",
       "      <td>maskedman</td>\n",
       "      <td>distinctively pro-evolution</td>\n",
       "    </tr>\n",
       "    <tr>\n",
       "      <th>19552</th>\n",
       "      <td>tentative</td>\n",
       "      <td>distinctively pro-evolution</td>\n",
       "    </tr>\n",
       "    <tr>\n",
       "      <th>2022</th>\n",
       "      <td>biosphere</td>\n",
       "      <td>distinctively pro-evolution</td>\n",
       "    </tr>\n",
       "    <tr>\n",
       "      <th>12722</th>\n",
       "      <td>motivation</td>\n",
       "      <td>distinctively pro-creationism</td>\n",
       "    </tr>\n",
       "    <tr>\n",
       "      <th>1419</th>\n",
       "      <td>augustine</td>\n",
       "      <td>distinctively pro-creationism</td>\n",
       "    </tr>\n",
       "    <tr>\n",
       "      <th>13093</th>\n",
       "      <td>neccessarily</td>\n",
       "      <td>distinctively pro-creationism</td>\n",
       "    </tr>\n",
       "    <tr>\n",
       "      <th>12237</th>\n",
       "      <td>methodological</td>\n",
       "      <td>distinctively pro-evolution</td>\n",
       "    </tr>\n",
       "    <tr>\n",
       "      <th>7410</th>\n",
       "      <td>fathers</td>\n",
       "      <td>distinctively pro-creationism</td>\n",
       "    </tr>\n",
       "    <tr>\n",
       "      <th>12861</th>\n",
       "      <td>museums</td>\n",
       "      <td>distinctively pro-creationism</td>\n",
       "    </tr>\n",
       "    <tr>\n",
       "      <th>20379</th>\n",
       "      <td>twin</td>\n",
       "      <td>distinctively pro-evolution</td>\n",
       "    </tr>\n",
       "    <tr>\n",
       "      <th>21131</th>\n",
       "      <td>verses</td>\n",
       "      <td>distinctively pro-creationism</td>\n",
       "    </tr>\n",
       "    <tr>\n",
       "      <th>6477</th>\n",
       "      <td>emotion</td>\n",
       "      <td>distinctively pro-creationism</td>\n",
       "    </tr>\n",
       "    <tr>\n",
       "      <th>13646</th>\n",
       "      <td>okazaki</td>\n",
       "      <td>distinctively pro-creationism</td>\n",
       "    </tr>\n",
       "    <tr>\n",
       "      <th>1743</th>\n",
       "      <td>bdmnp</td>\n",
       "      <td>distinctively pro-evolution</td>\n",
       "    </tr>\n",
       "    <tr>\n",
       "      <th>2500</th>\n",
       "      <td>bullshit</td>\n",
       "      <td>distinctively pro-evolution</td>\n",
       "    </tr>\n",
       "    <tr>\n",
       "      <th>6015</th>\n",
       "      <td>drwile</td>\n",
       "      <td>distinctively pro-creationism</td>\n",
       "    </tr>\n",
       "    <tr>\n",
       "      <th>15198</th>\n",
       "      <td>precursor</td>\n",
       "      <td>distinctively pro-evolution</td>\n",
       "    </tr>\n",
       "    <tr>\n",
       "      <th>8716</th>\n",
       "      <td>graur</td>\n",
       "      <td>distinctively pro-creationism</td>\n",
       "    </tr>\n",
       "    <tr>\n",
       "      <th>20214</th>\n",
       "      <td>tries</td>\n",
       "      <td>distinctively pro-evolution</td>\n",
       "    </tr>\n",
       "    <tr>\n",
       "      <th>12266</th>\n",
       "      <td>mice</td>\n",
       "      <td>distinctively pro-evolution</td>\n",
       "    </tr>\n",
       "    <tr>\n",
       "      <th>4856</th>\n",
       "      <td>deduce</td>\n",
       "      <td>distinctively pro-creationism</td>\n",
       "    </tr>\n",
       "    <tr>\n",
       "      <th>1344</th>\n",
       "      <td>atp</td>\n",
       "      <td>distinctively pro-evolution</td>\n",
       "    </tr>\n",
       "    <tr>\n",
       "      <th>2008</th>\n",
       "      <td>biomass</td>\n",
       "      <td>distinctively pro-creationism</td>\n",
       "    </tr>\n",
       "    <tr>\n",
       "      <th>4377</th>\n",
       "      <td>crev</td>\n",
       "      <td>distinctively pro-creationism</td>\n",
       "    </tr>\n",
       "    <tr>\n",
       "      <th>9256</th>\n",
       "      <td>hind</td>\n",
       "      <td>distinctively pro-evolution</td>\n",
       "    </tr>\n",
       "    <tr>\n",
       "      <th>6265</th>\n",
       "      <td>educated</td>\n",
       "      <td>distinctively pro-evolution</td>\n",
       "    </tr>\n",
       "  </tbody>\n",
       "</table>\n",
       "</div>"
      ],
      "text/plain": [
       "           vocabulary                          label\n",
       "1993       biogenesis    distinctively pro-evolution\n",
       "16878       ribosomes    distinctively pro-evolution\n",
       "17464       scripture  distinctively pro-creationism\n",
       "6732     epistemology    distinctively pro-evolution\n",
       "45            abiotic    distinctively pro-evolution\n",
       "13688      omniscient  distinctively pro-creationism\n",
       "13593             oec  distinctively pro-creationism\n",
       "10807       johnberea    distinctively pro-evolution\n",
       "12672         morning  distinctively pro-creationism\n",
       "16967            rnas    distinctively pro-evolution\n",
       "21220          virgin    distinctively pro-evolution\n",
       "9697            idiot    distinctively pro-evolution\n",
       "2553           butter  distinctively pro-creationism\n",
       "19924             toe    distinctively pro-evolution\n",
       "8097            fudge  distinctively pro-creationism\n",
       "1235              ass    distinctively pro-evolution\n",
       "14105       pakicetus  distinctively pro-creationism\n",
       "9791       immaterial    distinctively pro-evolution\n",
       "14604    philosophers    distinctively pro-evolution\n",
       "20792    unreasonably    distinctively pro-evolution\n",
       "12796             muh    distinctively pro-evolution\n",
       "16875       ribosomal    distinctively pro-evolution\n",
       "12143          mendel    distinctively pro-evolution\n",
       "6882         eugenics  distinctively pro-creationism\n",
       "11950       maskedman    distinctively pro-evolution\n",
       "19552       tentative    distinctively pro-evolution\n",
       "2022        biosphere    distinctively pro-evolution\n",
       "12722      motivation  distinctively pro-creationism\n",
       "1419        augustine  distinctively pro-creationism\n",
       "13093    neccessarily  distinctively pro-creationism\n",
       "12237  methodological    distinctively pro-evolution\n",
       "7410          fathers  distinctively pro-creationism\n",
       "12861         museums  distinctively pro-creationism\n",
       "20379            twin    distinctively pro-evolution\n",
       "21131          verses  distinctively pro-creationism\n",
       "6477          emotion  distinctively pro-creationism\n",
       "13646         okazaki  distinctively pro-creationism\n",
       "1743            bdmnp    distinctively pro-evolution\n",
       "2500         bullshit    distinctively pro-evolution\n",
       "6015           drwile  distinctively pro-creationism\n",
       "15198       precursor    distinctively pro-evolution\n",
       "8716            graur  distinctively pro-creationism\n",
       "20214           tries    distinctively pro-evolution\n",
       "12266            mice    distinctively pro-evolution\n",
       "4856           deduce  distinctively pro-creationism\n",
       "1344              atp    distinctively pro-evolution\n",
       "2008          biomass  distinctively pro-creationism\n",
       "4377             crev  distinctively pro-creationism\n",
       "9256             hind    distinctively pro-evolution\n",
       "6265         educated    distinctively pro-evolution"
      ]
     },
     "execution_count": 34,
     "metadata": {},
     "output_type": "execute_result"
    }
   ],
   "source": [
    "coefs.sort_values(by='abs diff', ascending=False)[['vocabulary', 'label']][:50]"
   ]
  },
  {
   "cell_type": "code",
   "execution_count": 35,
   "metadata": {},
   "outputs": [],
   "source": [
    "evolution_vocab=list(coefs.sort_values(by='evolution log-odds', ascending=False)['vocabulary'])[:50]"
   ]
  },
  {
   "cell_type": "code",
   "execution_count": 36,
   "metadata": {},
   "outputs": [],
   "source": [
    "creationism_vocab=list(coefs.sort_values(by='creation log-odds', ascending=False)['vocabulary'])[:50]"
   ]
  },
  {
   "cell_type": "code",
   "execution_count": 37,
   "metadata": {},
   "outputs": [
    {
     "data": {
      "text/plain": [
       "['epistemology',\n",
       " 'biogenesis',\n",
       " 'ribosomes',\n",
       " 'johnberea',\n",
       " 'abiotic',\n",
       " 'mendel',\n",
       " 'idiot',\n",
       " 'color',\n",
       " 'ring',\n",
       " 'precursors',\n",
       " 'allele',\n",
       " 'rebuttal',\n",
       " 'bot',\n",
       " 'troll',\n",
       " 'holy',\n",
       " 'muh',\n",
       " 'ken',\n",
       " 'tries',\n",
       " 'crap',\n",
       " 'answered',\n",
       " 'bullshit',\n",
       " 'dishonesty',\n",
       " 'dude',\n",
       " 'consciousness',\n",
       " 'tiktaalik',\n",
       " 'im',\n",
       " 'rnas',\n",
       " 'uh',\n",
       " 'biosphere',\n",
       " 'racist',\n",
       " 'transitions',\n",
       " 'meta',\n",
       " 'primates',\n",
       " 'virgin',\n",
       " 'male',\n",
       " 'somebody',\n",
       " 'mice',\n",
       " 'speculation',\n",
       " 'mobile',\n",
       " 'races',\n",
       " 'addressing',\n",
       " 'threads',\n",
       " 'dying',\n",
       " 'cats',\n",
       " 'philosophers',\n",
       " 'ham',\n",
       " 'formal',\n",
       " 'mod',\n",
       " 'informed',\n",
       " 'imgur']"
      ]
     },
     "execution_count": 37,
     "metadata": {},
     "output_type": "execute_result"
    }
   ],
   "source": [
    "evolution_vocab"
   ]
  },
  {
   "cell_type": "code",
   "execution_count": 38,
   "metadata": {},
   "outputs": [
    {
     "data": {
      "text/plain": [
       "['scripture',\n",
       " 'omniscient',\n",
       " 'oec',\n",
       " 'morning',\n",
       " 'decay',\n",
       " 'soul',\n",
       " 'doesnt',\n",
       " 'evening',\n",
       " 'worldview',\n",
       " 'star',\n",
       " 'pm',\n",
       " 'multiverse',\n",
       " 'butter',\n",
       " 'bread',\n",
       " 'glad',\n",
       " 'eugenics',\n",
       " 'letter',\n",
       " 'downvoting',\n",
       " 'names',\n",
       " 'access',\n",
       " 'sin',\n",
       " 'treat',\n",
       " 'younger',\n",
       " 'fascinating',\n",
       " 'fudge',\n",
       " 'mechanics',\n",
       " 'blog',\n",
       " 'private',\n",
       " 'confused',\n",
       " 'gas',\n",
       " 'im',\n",
       " 'secret',\n",
       " 'motivation',\n",
       " 'mainstream',\n",
       " 'dated',\n",
       " 'image',\n",
       " 'decide',\n",
       " 'night',\n",
       " 'seemed',\n",
       " 'destroyed',\n",
       " 'serve',\n",
       " 'student',\n",
       " 'emotion',\n",
       " 'government',\n",
       " 'viewpoint',\n",
       " 'friends',\n",
       " 'neccessarily',\n",
       " 'contamination',\n",
       " 'online',\n",
       " 'phd']"
      ]
     },
     "execution_count": 38,
     "metadata": {},
     "output_type": "execute_result"
    }
   ],
   "source": [
    "creationism_vocab"
   ]
  },
  {
   "cell_type": "code",
   "execution_count": null,
   "metadata": {},
   "outputs": [],
   "source": []
  },
  {
   "cell_type": "code",
   "execution_count": null,
   "metadata": {},
   "outputs": [],
   "source": []
  },
  {
   "cell_type": "code",
   "execution_count": null,
   "metadata": {},
   "outputs": [],
   "source": []
  }
 ],
 "metadata": {
  "kernelspec": {
   "display_name": "Python 3",
   "language": "python",
   "name": "python3"
  },
  "language_info": {
   "codemirror_mode": {
    "name": "ipython",
    "version": 3
   },
   "file_extension": ".py",
   "mimetype": "text/x-python",
   "name": "python",
   "nbconvert_exporter": "python",
   "pygments_lexer": "ipython3",
   "version": "3.6.5"
  }
 },
 "nbformat": 4,
 "nbformat_minor": 2
}
